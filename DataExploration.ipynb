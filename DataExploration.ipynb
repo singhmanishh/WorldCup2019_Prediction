{
 "cells": [
  {
   "cell_type": "code",
   "execution_count": 4,
   "id": "37cc1080",
   "metadata": {
    "scrolled": true
   },
   "outputs": [
    {
     "name": "stdout",
     "output_type": "stream",
     "text": [
      "Collecting seaborn\n",
      "\u001b[?25l  Downloading https://files.pythonhosted.org/packages/10/5b/0479d7d845b5ba410ca702ffcd7f2cd95a14a4dfff1fde2637802b258b9b/seaborn-0.11.2-py3-none-any.whl (292kB)\n",
      "\u001b[K     |████████████████████████████████| 296kB 8.1MB/s eta 0:00:01\n",
      "\u001b[?25hRequirement already satisfied: pandas>=0.23 in /opt/conda/lib/python3.7/site-packages (from seaborn) (1.1.4)\n",
      "Requirement already satisfied: matplotlib>=2.2 in /opt/conda/lib/python3.7/site-packages (from seaborn) (3.1.1)\n",
      "Requirement already satisfied: scipy>=1.0 in /opt/conda/lib/python3.7/site-packages (from seaborn) (1.7.3)\n",
      "Requirement already satisfied: numpy>=1.15 in /opt/conda/lib/python3.7/site-packages (from seaborn) (1.21.4)\n",
      "Requirement already satisfied: python-dateutil>=2.7.3 in /opt/conda/lib/python3.7/site-packages (from pandas>=0.23->seaborn) (2.8.2)\n",
      "Requirement already satisfied: pytz>=2017.2 in /opt/conda/lib/python3.7/site-packages (from pandas>=0.23->seaborn) (2021.3)\n",
      "Requirement already satisfied: cycler>=0.10 in /opt/conda/lib/python3.7/site-packages (from matplotlib>=2.2->seaborn) (0.11.0)\n",
      "Requirement already satisfied: pyparsing!=2.0.4,!=2.1.2,!=2.1.6,>=2.0.1 in /opt/conda/lib/python3.7/site-packages (from matplotlib>=2.2->seaborn) (3.0.6)\n",
      "Requirement already satisfied: kiwisolver>=1.0.1 in /opt/conda/lib/python3.7/site-packages (from matplotlib>=2.2->seaborn) (1.3.2)\n",
      "Requirement already satisfied: six>=1.5 in /opt/conda/lib/python3.7/site-packages (from python-dateutil>=2.7.3->pandas>=0.23->seaborn) (1.16.0)\n",
      "Installing collected packages: seaborn\n",
      "Successfully installed seaborn-0.11.2\n",
      "\u001b[33mWARNING: You are using pip version 19.3.1; however, version 21.3.1 is available.\n",
      "You should consider upgrading via the 'pip install --upgrade pip' command.\u001b[0m\n"
     ]
    }
   ],
   "source": [
    "!pip install seaborn"
   ]
  },
  {
   "cell_type": "code",
   "execution_count": 7,
   "id": "74039ca2",
   "metadata": {},
   "outputs": [],
   "source": [
    "import warnings\n",
    "warnings.filterwarnings('ignore')"
   ]
  },
  {
   "cell_type": "code",
   "execution_count": 8,
   "id": "f4f63f30",
   "metadata": {},
   "outputs": [],
   "source": [
    "#import all libraries and dependencies\n",
    "import pandas as pd\n",
    "import numpy as np\n",
    "import matplotlib.pyplot as plt\n",
    "import seaborn as sns\n",
    "import matplotlib.ticker as ticker\n",
    "import matplotlib.ticker as plticker\n",
    "#from sklearn.model_selection import train_test_split\n",
    "#from sklearn.ensemble import RandomForestClassifier\n",
    "#from sklearn.datasets import make_classification"
   ]
  },
  {
   "cell_type": "code",
   "execution_count": 9,
   "id": "fc05b16f",
   "metadata": {},
   "outputs": [],
   "source": [
    "#load data \n",
    "world_cup = pd.read_csv('World Cup 2019 Dataset.csv')\n",
    "results = pd.read_csv('results.csv')"
   ]
  },
  {
   "cell_type": "code",
   "execution_count": 13,
   "id": "cece1bfc",
   "metadata": {},
   "outputs": [
    {
     "name": "stdout",
     "output_type": "stream",
     "text": [
      "(10, 7)\n",
      "(996, 6)\n"
     ]
    }
   ],
   "source": [
    "print (world_cup.shape)\n",
    "print (results.shape)"
   ]
  },
  {
   "cell_type": "code",
   "execution_count": 11,
   "id": "43b1494d",
   "metadata": {},
   "outputs": [
    {
     "data": {
      "text/html": [
       "<div>\n",
       "<style scoped>\n",
       "    .dataframe tbody tr th:only-of-type {\n",
       "        vertical-align: middle;\n",
       "    }\n",
       "\n",
       "    .dataframe tbody tr th {\n",
       "        vertical-align: top;\n",
       "    }\n",
       "\n",
       "    .dataframe thead th {\n",
       "        text-align: right;\n",
       "    }\n",
       "</style>\n",
       "<table border=\"1\" class=\"dataframe\">\n",
       "  <thead>\n",
       "    <tr style=\"text-align: right;\">\n",
       "      <th></th>\n",
       "      <th>Team</th>\n",
       "      <th>Group</th>\n",
       "      <th>Previous \\nappearances</th>\n",
       "      <th>Previous \\r\\ntitles</th>\n",
       "      <th>Previous\\r\\n finals</th>\n",
       "      <th>Previous\\nsemifinals</th>\n",
       "      <th>Current \\r rank</th>\n",
       "    </tr>\n",
       "  </thead>\n",
       "  <tbody>\n",
       "    <tr>\n",
       "      <th>0</th>\n",
       "      <td>England</td>\n",
       "      <td>A</td>\n",
       "      <td>11</td>\n",
       "      <td>0</td>\n",
       "      <td>3</td>\n",
       "      <td>5</td>\n",
       "      <td>1</td>\n",
       "    </tr>\n",
       "    <tr>\n",
       "      <th>1</th>\n",
       "      <td>South Africa</td>\n",
       "      <td>A</td>\n",
       "      <td>6</td>\n",
       "      <td>0</td>\n",
       "      <td>0</td>\n",
       "      <td>4</td>\n",
       "      <td>3</td>\n",
       "    </tr>\n",
       "    <tr>\n",
       "      <th>2</th>\n",
       "      <td>West Indies</td>\n",
       "      <td>A</td>\n",
       "      <td>11</td>\n",
       "      <td>2</td>\n",
       "      <td>3</td>\n",
       "      <td>4</td>\n",
       "      <td>8</td>\n",
       "    </tr>\n",
       "    <tr>\n",
       "      <th>3</th>\n",
       "      <td>Pakistan</td>\n",
       "      <td>A</td>\n",
       "      <td>11</td>\n",
       "      <td>1</td>\n",
       "      <td>2</td>\n",
       "      <td>6</td>\n",
       "      <td>6</td>\n",
       "    </tr>\n",
       "    <tr>\n",
       "      <th>4</th>\n",
       "      <td>New Zealand</td>\n",
       "      <td>A</td>\n",
       "      <td>11</td>\n",
       "      <td>0</td>\n",
       "      <td>1</td>\n",
       "      <td>7</td>\n",
       "      <td>4</td>\n",
       "    </tr>\n",
       "  </tbody>\n",
       "</table>\n",
       "</div>"
      ],
      "text/plain": [
       "           Team Group  Previous \\nappearances  Previous \\r\\ntitles  \\\n",
       "0       England     A                      11                    0   \n",
       "1  South Africa     A                       6                    0   \n",
       "2   West Indies     A                      11                    2   \n",
       "3      Pakistan     A                      11                    1   \n",
       "4   New Zealand     A                      11                    0   \n",
       "\n",
       "   Previous\\r\\n finals  Previous\\nsemifinals  Current \\r rank  \n",
       "0                    3                     5                1  \n",
       "1                    0                     4                3  \n",
       "2                    3                     4                8  \n",
       "3                    2                     6                6  \n",
       "4                    1                     7                4  "
      ]
     },
     "execution_count": 11,
     "metadata": {},
     "output_type": "execute_result"
    }
   ],
   "source": [
    "world_cup.head()"
   ]
  },
  {
   "cell_type": "code",
   "execution_count": 12,
   "id": "9d6707bb",
   "metadata": {
    "scrolled": true
   },
   "outputs": [
    {
     "data": {
      "text/html": [
       "<div>\n",
       "<style scoped>\n",
       "    .dataframe tbody tr th:only-of-type {\n",
       "        vertical-align: middle;\n",
       "    }\n",
       "\n",
       "    .dataframe tbody tr th {\n",
       "        vertical-align: top;\n",
       "    }\n",
       "\n",
       "    .dataframe thead th {\n",
       "        text-align: right;\n",
       "    }\n",
       "</style>\n",
       "<table border=\"1\" class=\"dataframe\">\n",
       "  <thead>\n",
       "    <tr style=\"text-align: right;\">\n",
       "      <th></th>\n",
       "      <th>date</th>\n",
       "      <th>Team_1</th>\n",
       "      <th>Team_2</th>\n",
       "      <th>Winner</th>\n",
       "      <th>Margin</th>\n",
       "      <th>Ground</th>\n",
       "    </tr>\n",
       "  </thead>\n",
       "  <tbody>\n",
       "    <tr>\n",
       "      <th>0</th>\n",
       "      <td>4-Jan-10</td>\n",
       "      <td>Bangladesh</td>\n",
       "      <td>Sri Lanka</td>\n",
       "      <td>Sri Lanka</td>\n",
       "      <td>7 wickets</td>\n",
       "      <td>Dhaka</td>\n",
       "    </tr>\n",
       "    <tr>\n",
       "      <th>1</th>\n",
       "      <td>5-Jan-10</td>\n",
       "      <td>India</td>\n",
       "      <td>Sri Lanka</td>\n",
       "      <td>Sri Lanka</td>\n",
       "      <td>5 wickets</td>\n",
       "      <td>Dhaka</td>\n",
       "    </tr>\n",
       "    <tr>\n",
       "      <th>2</th>\n",
       "      <td>7-Jan-10</td>\n",
       "      <td>Bangladesh</td>\n",
       "      <td>India</td>\n",
       "      <td>India</td>\n",
       "      <td>6 wickets</td>\n",
       "      <td>Dhaka</td>\n",
       "    </tr>\n",
       "    <tr>\n",
       "      <th>3</th>\n",
       "      <td>8-Jan-10</td>\n",
       "      <td>Bangladesh</td>\n",
       "      <td>Sri Lanka</td>\n",
       "      <td>Sri Lanka</td>\n",
       "      <td>9 wickets</td>\n",
       "      <td>Dhaka</td>\n",
       "    </tr>\n",
       "    <tr>\n",
       "      <th>4</th>\n",
       "      <td>10-Jan-10</td>\n",
       "      <td>India</td>\n",
       "      <td>Sri Lanka</td>\n",
       "      <td>India</td>\n",
       "      <td>8 wickets</td>\n",
       "      <td>Dhaka</td>\n",
       "    </tr>\n",
       "  </tbody>\n",
       "</table>\n",
       "</div>"
      ],
      "text/plain": [
       "        date      Team_1     Team_2     Winner     Margin Ground\n",
       "0   4-Jan-10  Bangladesh  Sri Lanka  Sri Lanka  7 wickets  Dhaka\n",
       "1   5-Jan-10       India  Sri Lanka  Sri Lanka  5 wickets  Dhaka\n",
       "2   7-Jan-10  Bangladesh      India      India  6 wickets  Dhaka\n",
       "3   8-Jan-10  Bangladesh  Sri Lanka  Sri Lanka  9 wickets  Dhaka\n",
       "4  10-Jan-10       India  Sri Lanka      India  8 wickets  Dhaka"
      ]
     },
     "execution_count": 12,
     "metadata": {},
     "output_type": "execute_result"
    }
   ],
   "source": [
    "results.head()"
   ]
  },
  {
   "cell_type": "code",
   "execution_count": 150,
   "id": "dc5c40a1",
   "metadata": {},
   "outputs": [],
   "source": [
    "#exploring results to discover insights"
   ]
  },
  {
   "cell_type": "code",
   "execution_count": 151,
   "id": "045b80a5",
   "metadata": {},
   "outputs": [
    {
     "data": {
      "text/html": [
       "<div>\n",
       "<style scoped>\n",
       "    .dataframe tbody tr th:only-of-type {\n",
       "        vertical-align: middle;\n",
       "    }\n",
       "\n",
       "    .dataframe tbody tr th {\n",
       "        vertical-align: top;\n",
       "    }\n",
       "\n",
       "    .dataframe thead th {\n",
       "        text-align: right;\n",
       "    }\n",
       "</style>\n",
       "<table border=\"1\" class=\"dataframe\">\n",
       "  <thead>\n",
       "    <tr style=\"text-align: right;\">\n",
       "      <th></th>\n",
       "      <th>date</th>\n",
       "      <th>Team_1</th>\n",
       "      <th>Team_2</th>\n",
       "      <th>Winner</th>\n",
       "      <th>Margin</th>\n",
       "      <th>Ground</th>\n",
       "    </tr>\n",
       "  </thead>\n",
       "  <tbody>\n",
       "    <tr>\n",
       "      <th>1</th>\n",
       "      <td>5-Jan-10</td>\n",
       "      <td>India</td>\n",
       "      <td>Sri Lanka</td>\n",
       "      <td>Sri Lanka</td>\n",
       "      <td>5 wickets</td>\n",
       "      <td>Dhaka</td>\n",
       "    </tr>\n",
       "    <tr>\n",
       "      <th>2</th>\n",
       "      <td>7-Jan-10</td>\n",
       "      <td>Bangladesh</td>\n",
       "      <td>India</td>\n",
       "      <td>India</td>\n",
       "      <td>6 wickets</td>\n",
       "      <td>Dhaka</td>\n",
       "    </tr>\n",
       "    <tr>\n",
       "      <th>4</th>\n",
       "      <td>10-Jan-10</td>\n",
       "      <td>India</td>\n",
       "      <td>Sri Lanka</td>\n",
       "      <td>India</td>\n",
       "      <td>8 wickets</td>\n",
       "      <td>Dhaka</td>\n",
       "    </tr>\n",
       "    <tr>\n",
       "      <th>5</th>\n",
       "      <td>11-Jan-10</td>\n",
       "      <td>Bangladesh</td>\n",
       "      <td>India</td>\n",
       "      <td>India</td>\n",
       "      <td>6 wickets</td>\n",
       "      <td>Dhaka</td>\n",
       "    </tr>\n",
       "    <tr>\n",
       "      <th>6</th>\n",
       "      <td>13-Jan-10</td>\n",
       "      <td>India</td>\n",
       "      <td>Sri Lanka</td>\n",
       "      <td>Sri Lanka</td>\n",
       "      <td>4 wickets</td>\n",
       "      <td>Dhaka</td>\n",
       "    </tr>\n",
       "  </tbody>\n",
       "</table>\n",
       "</div>"
      ],
      "text/plain": [
       "        date      Team_1     Team_2     Winner     Margin Ground\n",
       "1   5-Jan-10       India  Sri Lanka  Sri Lanka  5 wickets  Dhaka\n",
       "2   7-Jan-10  Bangladesh      India      India  6 wickets  Dhaka\n",
       "4  10-Jan-10       India  Sri Lanka      India  8 wickets  Dhaka\n",
       "5  11-Jan-10  Bangladesh      India      India  6 wickets  Dhaka\n",
       "6  13-Jan-10       India  Sri Lanka  Sri Lanka  4 wickets  Dhaka"
      ]
     },
     "execution_count": 151,
     "metadata": {},
     "output_type": "execute_result"
    }
   ],
   "source": [
    "#checking for India\n",
    "df = results[(results['Team_1'] == 'India') | (results['Team_2'] == 'India')]\n",
    "df.head()"
   ]
  },
  {
   "cell_type": "code",
   "execution_count": 17,
   "id": "638e3616",
   "metadata": {},
   "outputs": [
    {
     "data": {
      "text/plain": [
       "(198, 6)"
      ]
     },
     "execution_count": 17,
     "metadata": {},
     "output_type": "execute_result"
    }
   ],
   "source": [
    "df.shape"
   ]
  },
  {
   "cell_type": "code",
   "execution_count": 28,
   "id": "d607f502",
   "metadata": {},
   "outputs": [
    {
     "name": "stdout",
     "output_type": "stream",
     "text": [
      "61.61616161616161\n"
     ]
    }
   ],
   "source": [
    "#India Win Percentage in past matches\n",
    "print((len(df[df['Winner'] == 'India'])/df.shape[0]) *100.0)"
   ]
  },
  {
   "cell_type": "code",
   "execution_count": 142,
   "id": "baa86b35",
   "metadata": {},
   "outputs": [],
   "source": [
    "my_df = pd.DataFrame(columns=[\"Country\", \"Win_Percentage\"])\n",
    "country_list = [] \n",
    "win_Percent_list = []\n",
    "\n",
    "def get_win_percentage(list):\n",
    "    for i in list:\n",
    "        df = results[(results['Team_1'] == i) | (results['Team_2'] == i)] \n",
    "        country_list.append(i)\n",
    "        win_Percent_list.append(round(len(df[df['Winner'] == i])/(df.shape[0])*100.0,2))\n",
    "\n",
    "    my_df['Country'] = country_list\n",
    "    my_df['Win_Percentage'] = win_Percent_list\n",
    "    return my_df.sort_values('Win_Percentage',ascending=False)    "
   ]
  },
  {
   "cell_type": "code",
   "execution_count": 143,
   "id": "2165c5d2",
   "metadata": {},
   "outputs": [],
   "source": [
    "list_of_participants = ['England', 'South Africa', 'West Indies', 'Pakistan', 'New Zealand', \n",
    "                        'Sri Lanka', 'Afghanistan', 'Australia', 'Bangladesh', 'India']"
   ]
  },
  {
   "cell_type": "code",
   "execution_count": 144,
   "id": "e4c29b86",
   "metadata": {},
   "outputs": [],
   "source": [
    "output = get_win_percentage(list_of_participants)"
   ]
  },
  {
   "cell_type": "code",
   "execution_count": 149,
   "id": "895c462d",
   "metadata": {
    "scrolled": true
   },
   "outputs": [
    {
     "data": {
      "text/plain": [
       "(array([0, 1, 2, 3, 4, 5, 6, 7, 8, 9]), <a list of 10 Text xticklabel objects>)"
      ]
     },
     "execution_count": 149,
     "metadata": {},
     "output_type": "execute_result"
    },
    {
     "data": {
      "image/png": "[encoded data removed]",
      "text/plain": [
       "<Figure size 720x288 with 1 Axes>"
      ]
     },
     "metadata": {
      "needs_background": "light"
     },
     "output_type": "display_data"
    }
   ],
   "source": [
    "plt.figure(figsize=(10,4))\n",
    "sns.barplot(x = 'Country', y = 'Win_Percentage', data = output).set_title('Win percentage for each country')\n",
    "plt.xlabel(\"Country\")\n",
    "plt.ylabel(\"Win Percentage\")\n",
    "plt.xticks(rotation = 60)"
   ]
  },
  {
   "cell_type": "code",
   "execution_count": 158,
   "id": "b648d929",
   "metadata": {
    "scrolled": true
   },
   "outputs": [
    {
     "data": {
      "text/html": [
       "<div>\n",
       "<style scoped>\n",
       "    .dataframe tbody tr th:only-of-type {\n",
       "        vertical-align: middle;\n",
       "    }\n",
       "\n",
       "    .dataframe tbody tr th {\n",
       "        vertical-align: top;\n",
       "    }\n",
       "\n",
       "    .dataframe thead th {\n",
       "        text-align: right;\n",
       "    }\n",
       "</style>\n",
       "<table border=\"1\" class=\"dataframe\">\n",
       "  <thead>\n",
       "    <tr style=\"text-align: right;\">\n",
       "      <th></th>\n",
       "      <th>date</th>\n",
       "      <th>Team_1</th>\n",
       "      <th>Team_2</th>\n",
       "      <th>Winner</th>\n",
       "      <th>Margin</th>\n",
       "      <th>Ground</th>\n",
       "    </tr>\n",
       "  </thead>\n",
       "  <tbody>\n",
       "    <tr>\n",
       "      <th>0</th>\n",
       "      <td>4-Jan-10</td>\n",
       "      <td>Bangladesh</td>\n",
       "      <td>Sri Lanka</td>\n",
       "      <td>Sri Lanka</td>\n",
       "      <td>7 wickets</td>\n",
       "      <td>Dhaka</td>\n",
       "    </tr>\n",
       "    <tr>\n",
       "      <th>1</th>\n",
       "      <td>5-Jan-10</td>\n",
       "      <td>India</td>\n",
       "      <td>Sri Lanka</td>\n",
       "      <td>Sri Lanka</td>\n",
       "      <td>5 wickets</td>\n",
       "      <td>Dhaka</td>\n",
       "    </tr>\n",
       "    <tr>\n",
       "      <th>2</th>\n",
       "      <td>7-Jan-10</td>\n",
       "      <td>Bangladesh</td>\n",
       "      <td>India</td>\n",
       "      <td>India</td>\n",
       "      <td>6 wickets</td>\n",
       "      <td>Dhaka</td>\n",
       "    </tr>\n",
       "    <tr>\n",
       "      <th>3</th>\n",
       "      <td>8-Jan-10</td>\n",
       "      <td>Bangladesh</td>\n",
       "      <td>Sri Lanka</td>\n",
       "      <td>Sri Lanka</td>\n",
       "      <td>9 wickets</td>\n",
       "      <td>Dhaka</td>\n",
       "    </tr>\n",
       "    <tr>\n",
       "      <th>4</th>\n",
       "      <td>10-Jan-10</td>\n",
       "      <td>India</td>\n",
       "      <td>Sri Lanka</td>\n",
       "      <td>India</td>\n",
       "      <td>8 wickets</td>\n",
       "      <td>Dhaka</td>\n",
       "    </tr>\n",
       "  </tbody>\n",
       "</table>\n",
       "</div>"
      ],
      "text/plain": [
       "        date      Team_1     Team_2     Winner     Margin Ground\n",
       "0   4-Jan-10  Bangladesh  Sri Lanka  Sri Lanka  7 wickets  Dhaka\n",
       "1   5-Jan-10       India  Sri Lanka  Sri Lanka  5 wickets  Dhaka\n",
       "2   7-Jan-10  Bangladesh      India      India  6 wickets  Dhaka\n",
       "3   8-Jan-10  Bangladesh  Sri Lanka  Sri Lanka  9 wickets  Dhaka\n",
       "4  10-Jan-10       India  Sri Lanka      India  8 wickets  Dhaka"
      ]
     },
     "execution_count": 158,
     "metadata": {},
     "output_type": "execute_result"
    }
   ],
   "source": [
    "results.head()"
   ]
  },
  {
   "cell_type": "code",
   "execution_count": 164,
   "id": "36dacadc",
   "metadata": {},
   "outputs": [],
   "source": [
    "results.loc[results.date == 'Jul 3-4, 2010', 'date'] = '03-07-2010'\n",
    "results.loc[results.date == 'Aug 19-20, 2010', 'date'] = '19-08-2010'\n",
    "results.loc[results.date == 'Jul 11-12, 2012', 'date'] = '11-07-2013'\n",
    "results.loc[results.date == 'Jul 2-3, 2013', 'date'] = '02-07-2013'\n",
    "results.loc[results.date == 'Jul 7-8, 2013', 'date'] = '03-07-2013'\n",
    "results.loc[results.date == 'Aug 27-28, 2013', 'date'] = '27-08-2013'"
   ]
  },
  {
   "cell_type": "code",
   "execution_count": 165,
   "id": "ab4d3101",
   "metadata": {},
   "outputs": [
    {
     "ename": "ValueError",
     "evalue": "invalid literal for int() with base 10: '11, 2014'",
     "output_type": "error",
     "traceback": [
      "\u001b[0;31m---------------------------------------------------------------------------\u001b[0m",
      "\u001b[0;31mValueError\u001b[0m                                Traceback (most recent call last)",
      "\u001b[0;32m<ipython-input-165-63d6b7272ea3>\u001b[0m in \u001b[0;36m<module>\u001b[0;34m\u001b[0m\n\u001b[1;32m      2\u001b[0m \u001b[0myear\u001b[0m \u001b[0;34m=\u001b[0m \u001b[0;34m[\u001b[0m\u001b[0;34m]\u001b[0m\u001b[0;34m\u001b[0m\u001b[0;34m\u001b[0m\u001b[0m\n\u001b[1;32m      3\u001b[0m \u001b[0;32mfor\u001b[0m \u001b[0mrow\u001b[0m \u001b[0;32min\u001b[0m \u001b[0mresults\u001b[0m\u001b[0;34m[\u001b[0m\u001b[0;34m'date'\u001b[0m\u001b[0;34m]\u001b[0m\u001b[0;34m:\u001b[0m\u001b[0;34m\u001b[0m\u001b[0;34m\u001b[0m\u001b[0m\n\u001b[0;32m----> 4\u001b[0;31m     \u001b[0myear\u001b[0m\u001b[0;34m.\u001b[0m\u001b[0mappend\u001b[0m\u001b[0;34m(\u001b[0m\u001b[0mint\u001b[0m\u001b[0;34m(\u001b[0m\u001b[0mrow\u001b[0m\u001b[0;34m[\u001b[0m\u001b[0;36m7\u001b[0m\u001b[0;34m:\u001b[0m\u001b[0;34m]\u001b[0m\u001b[0;34m)\u001b[0m\u001b[0;34m)\u001b[0m\u001b[0;34m\u001b[0m\u001b[0;34m\u001b[0m\u001b[0m\n\u001b[0m\u001b[1;32m      5\u001b[0m \u001b[0mresults\u001b[0m\u001b[0;34m[\u001b[0m\u001b[0;34m'match_year'\u001b[0m\u001b[0;34m]\u001b[0m\u001b[0;34m=\u001b[0m \u001b[0myear\u001b[0m\u001b[0;34m\u001b[0m\u001b[0;34m\u001b[0m\u001b[0m\n\u001b[1;32m      6\u001b[0m \u001b[0mresults_2010\u001b[0m \u001b[0;34m=\u001b[0m \u001b[0mresults\u001b[0m\u001b[0;34m[\u001b[0m\u001b[0mresults\u001b[0m\u001b[0;34m.\u001b[0m\u001b[0mmatch_year\u001b[0m \u001b[0;34m>=\u001b[0m \u001b[0;36m10\u001b[0m\u001b[0;34m]\u001b[0m\u001b[0;34m\u001b[0m\u001b[0;34m\u001b[0m\u001b[0m\n",
      "\u001b[0;31mValueError\u001b[0m: invalid literal for int() with base 10: '11, 2014'"
     ]
    }
   ],
   "source": [
    "#creating a column for matches played in 2010\n",
    "year = []\n",
    "for row in results['date']:\n",
    "    year.append(int(row[7:]))\n",
    "results['match_year']= year\n",
    "results_2010 = results[results.match_year >= 10]\n",
    "#print((len(df_2010[df_2010['Winner'] == 'India'])/df_2010.shape[0]) *100.0)"
   ]
  },
  {
   "cell_type": "code",
   "execution_count": null,
   "id": "11327a90",
   "metadata": {},
   "outputs": [],
   "source": []
  },
  {
   "cell_type": "code",
   "execution_count": null,
   "id": "ae94d1b0",
   "metadata": {},
   "outputs": [],
   "source": []
  }
 ],
 "metadata": {
  "kernelspec": {
   "display_name": "Python 3",
   "language": "python",
   "name": "python3"
  },
  "language_info": {
   "codemirror_mode": {
    "name": "ipython",
    "version": 3
   },
   "file_extension": ".py",
   "mimetype": "text/x-python",
   "name": "python",
   "nbconvert_exporter": "python",
   "pygments_lexer": "ipython3",
   "version": "3.7.12"
  }
 },
 "nbformat": 4,
 "nbformat_minor": 5
}
