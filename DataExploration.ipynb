{
 "cells": [
  {
   "cell_type": "code",
   "execution_count": 4,
   "id": "d5105a90",
   "metadata": {
    "scrolled": true
   },
   "outputs": [
    {
     "name": "stdout",
     "output_type": "stream",
     "text": [
      "Collecting seaborn\n",
      "\u001b[?25l  Downloading https://files.pythonhosted.org/packages/10/5b/0479d7d845b5ba410ca702ffcd7f2cd95a14a4dfff1fde2637802b258b9b/seaborn-0.11.2-py3-none-any.whl (292kB)\n",
      "\u001b[K     |████████████████████████████████| 296kB 8.1MB/s eta 0:00:01\n",
      "\u001b[?25hRequirement already satisfied: pandas>=0.23 in /opt/conda/lib/python3.7/site-packages (from seaborn) (1.1.4)\n",
      "Requirement already satisfied: matplotlib>=2.2 in /opt/conda/lib/python3.7/site-packages (from seaborn) (3.1.1)\n",
      "Requirement already satisfied: scipy>=1.0 in /opt/conda/lib/python3.7/site-packages (from seaborn) (1.7.3)\n",
      "Requirement already satisfied: numpy>=1.15 in /opt/conda/lib/python3.7/site-packages (from seaborn) (1.21.4)\n",
      "Requirement already satisfied: python-dateutil>=2.7.3 in /opt/conda/lib/python3.7/site-packages (from pandas>=0.23->seaborn) (2.8.2)\n",
      "Requirement already satisfied: pytz>=2017.2 in /opt/conda/lib/python3.7/site-packages (from pandas>=0.23->seaborn) (2021.3)\n",
      "Requirement already satisfied: cycler>=0.10 in /opt/conda/lib/python3.7/site-packages (from matplotlib>=2.2->seaborn) (0.11.0)\n",
      "Requirement already satisfied: pyparsing!=2.0.4,!=2.1.2,!=2.1.6,>=2.0.1 in /opt/conda/lib/python3.7/site-packages (from matplotlib>=2.2->seaborn) (3.0.6)\n",
      "Requirement already satisfied: kiwisolver>=1.0.1 in /opt/conda/lib/python3.7/site-packages (from matplotlib>=2.2->seaborn) (1.3.2)\n",
      "Requirement already satisfied: six>=1.5 in /opt/conda/lib/python3.7/site-packages (from python-dateutil>=2.7.3->pandas>=0.23->seaborn) (1.16.0)\n",
      "Installing collected packages: seaborn\n",
      "Successfully installed seaborn-0.11.2\n",
      "\u001b[33mWARNING: You are using pip version 19.3.1; however, version 21.3.1 is available.\n",
      "You should consider upgrading via the 'pip install --upgrade pip' command.\u001b[0m\n"
     ]
    }
   ],
   "source": [
    "!pip install seaborn"
   ]
  },
  {
   "cell_type": "code",
   "execution_count": 7,
   "id": "ab38dae6",
   "metadata": {},
   "outputs": [],
   "source": [
    "import warnings\n",
    "warnings.filterwarnings('ignore')"
   ]
  },
  {
   "cell_type": "code",
   "execution_count": 8,
   "id": "013a0930",
   "metadata": {},
   "outputs": [],
   "source": [
    "#import all libraries and dependencies\n",
    "import pandas as pd\n",
    "import numpy as np\n",
    "import matplotlib.pyplot as plt\n",
    "import seaborn as sns\n",
    "import matplotlib.ticker as ticker\n",
    "import matplotlib.ticker as plticker\n",
    "#from sklearn.model_selection import train_test_split\n",
    "#from sklearn.ensemble import RandomForestClassifier\n",
    "#from sklearn.datasets import make_classification"
   ]
  },
  {
   "cell_type": "code",
   "execution_count": 9,
   "id": "d375bda7",
   "metadata": {},
   "outputs": [],
   "source": [
    "#load data \n",
    "world_cup = pd.read_csv('World Cup 2019 Dataset.csv')\n",
    "results = pd.read_csv('results.csv')"
   ]
  },
  {
   "cell_type": "code",
   "execution_count": 13,
   "id": "9c5be983",
   "metadata": {},
   "outputs": [
    {
     "name": "stdout",
     "output_type": "stream",
     "text": [
      "(10, 7)\n",
      "(996, 6)\n"
     ]
    }
   ],
   "source": [
    "print (world_cup.shape)\n",
    "print (results.shape)"
   ]
  },
  {
   "cell_type": "code",
   "execution_count": 11,
   "id": "b8a48bd1",
   "metadata": {},
   "outputs": [
    {
     "data": {
      "text/html": [
       "<div>\n",
       "<style scoped>\n",
       "    .dataframe tbody tr th:only-of-type {\n",
       "        vertical-align: middle;\n",
       "    }\n",
       "\n",
       "    .dataframe tbody tr th {\n",
       "        vertical-align: top;\n",
       "    }\n",
       "\n",
       "    .dataframe thead th {\n",
       "        text-align: right;\n",
       "    }\n",
       "</style>\n",
       "<table border=\"1\" class=\"dataframe\">\n",
       "  <thead>\n",
       "    <tr style=\"text-align: right;\">\n",
       "      <th></th>\n",
       "      <th>Team</th>\n",
       "      <th>Group</th>\n",
       "      <th>Previous \\nappearances</th>\n",
       "      <th>Previous \\r\\ntitles</th>\n",
       "      <th>Previous\\r\\n finals</th>\n",
       "      <th>Previous\\nsemifinals</th>\n",
       "      <th>Current \\r rank</th>\n",
       "    </tr>\n",
       "  </thead>\n",
       "  <tbody>\n",
       "    <tr>\n",
       "      <th>0</th>\n",
       "      <td>England</td>\n",
       "      <td>A</td>\n",
       "      <td>11</td>\n",
       "      <td>0</td>\n",
       "      <td>3</td>\n",
       "      <td>5</td>\n",
       "      <td>1</td>\n",
       "    </tr>\n",
       "    <tr>\n",
       "      <th>1</th>\n",
       "      <td>South Africa</td>\n",
       "      <td>A</td>\n",
       "      <td>6</td>\n",
       "      <td>0</td>\n",
       "      <td>0</td>\n",
       "      <td>4</td>\n",
       "      <td>3</td>\n",
       "    </tr>\n",
       "    <tr>\n",
       "      <th>2</th>\n",
       "      <td>West Indies</td>\n",
       "      <td>A</td>\n",
       "      <td>11</td>\n",
       "      <td>2</td>\n",
       "      <td>3</td>\n",
       "      <td>4</td>\n",
       "      <td>8</td>\n",
       "    </tr>\n",
       "    <tr>\n",
       "      <th>3</th>\n",
       "      <td>Pakistan</td>\n",
       "      <td>A</td>\n",
       "      <td>11</td>\n",
       "      <td>1</td>\n",
       "      <td>2</td>\n",
       "      <td>6</td>\n",
       "      <td>6</td>\n",
       "    </tr>\n",
       "    <tr>\n",
       "      <th>4</th>\n",
       "      <td>New Zealand</td>\n",
       "      <td>A</td>\n",
       "      <td>11</td>\n",
       "      <td>0</td>\n",
       "      <td>1</td>\n",
       "      <td>7</td>\n",
       "      <td>4</td>\n",
       "    </tr>\n",
       "  </tbody>\n",
       "</table>\n",
       "</div>"
      ],
      "text/plain": [
       "           Team Group  Previous \\nappearances  Previous \\r\\ntitles  \\\n",
       "0       England     A                      11                    0   \n",
       "1  South Africa     A                       6                    0   \n",
       "2   West Indies     A                      11                    2   \n",
       "3      Pakistan     A                      11                    1   \n",
       "4   New Zealand     A                      11                    0   \n",
       "\n",
       "   Previous\\r\\n finals  Previous\\nsemifinals  Current \\r rank  \n",
       "0                    3                     5                1  \n",
       "1                    0                     4                3  \n",
       "2                    3                     4                8  \n",
       "3                    2                     6                6  \n",
       "4                    1                     7                4  "
      ]
     },
     "execution_count": 11,
     "metadata": {},
     "output_type": "execute_result"
    }
   ],
   "source": [
    "world_cup.head()"
   ]
  },
  {
   "cell_type": "code",
   "execution_count": 12,
   "id": "eb6f15a3",
   "metadata": {
    "scrolled": true
   },
   "outputs": [
    {
     "data": {
      "text/html": [
       "<div>\n",
       "<style scoped>\n",
       "    .dataframe tbody tr th:only-of-type {\n",
       "        vertical-align: middle;\n",
       "    }\n",
       "\n",
       "    .dataframe tbody tr th {\n",
       "        vertical-align: top;\n",
       "    }\n",
       "\n",
       "    .dataframe thead th {\n",
       "        text-align: right;\n",
       "    }\n",
       "</style>\n",
       "<table border=\"1\" class=\"dataframe\">\n",
       "  <thead>\n",
       "    <tr style=\"text-align: right;\">\n",
       "      <th></th>\n",
       "      <th>date</th>\n",
       "      <th>Team_1</th>\n",
       "      <th>Team_2</th>\n",
       "      <th>Winner</th>\n",
       "      <th>Margin</th>\n",
       "      <th>Ground</th>\n",
       "    </tr>\n",
       "  </thead>\n",
       "  <tbody>\n",
       "    <tr>\n",
       "      <th>0</th>\n",
       "      <td>4-Jan-10</td>\n",
       "      <td>Bangladesh</td>\n",
       "      <td>Sri Lanka</td>\n",
       "      <td>Sri Lanka</td>\n",
       "      <td>7 wickets</td>\n",
       "      <td>Dhaka</td>\n",
       "    </tr>\n",
       "    <tr>\n",
       "      <th>1</th>\n",
       "      <td>5-Jan-10</td>\n",
       "      <td>India</td>\n",
       "      <td>Sri Lanka</td>\n",
       "      <td>Sri Lanka</td>\n",
       "      <td>5 wickets</td>\n",
       "      <td>Dhaka</td>\n",
       "    </tr>\n",
       "    <tr>\n",
       "      <th>2</th>\n",
       "      <td>7-Jan-10</td>\n",
       "      <td>Bangladesh</td>\n",
       "      <td>India</td>\n",
       "      <td>India</td>\n",
       "      <td>6 wickets</td>\n",
       "      <td>Dhaka</td>\n",
       "    </tr>\n",
       "    <tr>\n",
       "      <th>3</th>\n",
       "      <td>8-Jan-10</td>\n",
       "      <td>Bangladesh</td>\n",
       "      <td>Sri Lanka</td>\n",
       "      <td>Sri Lanka</td>\n",
       "      <td>9 wickets</td>\n",
       "      <td>Dhaka</td>\n",
       "    </tr>\n",
       "    <tr>\n",
       "      <th>4</th>\n",
       "      <td>10-Jan-10</td>\n",
       "      <td>India</td>\n",
       "      <td>Sri Lanka</td>\n",
       "      <td>India</td>\n",
       "      <td>8 wickets</td>\n",
       "      <td>Dhaka</td>\n",
       "    </tr>\n",
       "  </tbody>\n",
       "</table>\n",
       "</div>"
      ],
      "text/plain": [
       "        date      Team_1     Team_2     Winner     Margin Ground\n",
       "0   4-Jan-10  Bangladesh  Sri Lanka  Sri Lanka  7 wickets  Dhaka\n",
       "1   5-Jan-10       India  Sri Lanka  Sri Lanka  5 wickets  Dhaka\n",
       "2   7-Jan-10  Bangladesh      India      India  6 wickets  Dhaka\n",
       "3   8-Jan-10  Bangladesh  Sri Lanka  Sri Lanka  9 wickets  Dhaka\n",
       "4  10-Jan-10       India  Sri Lanka      India  8 wickets  Dhaka"
      ]
     },
     "execution_count": 12,
     "metadata": {},
     "output_type": "execute_result"
    }
   ],
   "source": [
    "results.head()"
   ]
  },
  {
   "cell_type": "code",
   "execution_count": 150,
   "id": "0e47c679",
   "metadata": {},
   "outputs": [],
   "source": [
    "#exploring results to discover insights"
   ]
  },
  {
   "cell_type": "code",
   "execution_count": 151,
   "id": "370e701e",
   "metadata": {},
   "outputs": [
    {
     "data": {
      "text/html": [
       "<div>\n",
       "<style scoped>\n",
       "    .dataframe tbody tr th:only-of-type {\n",
       "        vertical-align: middle;\n",
       "    }\n",
       "\n",
       "    .dataframe tbody tr th {\n",
       "        vertical-align: top;\n",
       "    }\n",
       "\n",
       "    .dataframe thead th {\n",
       "        text-align: right;\n",
       "    }\n",
       "</style>\n",
       "<table border=\"1\" class=\"dataframe\">\n",
       "  <thead>\n",
       "    <tr style=\"text-align: right;\">\n",
       "      <th></th>\n",
       "      <th>date</th>\n",
       "      <th>Team_1</th>\n",
       "      <th>Team_2</th>\n",
       "      <th>Winner</th>\n",
       "      <th>Margin</th>\n",
       "      <th>Ground</th>\n",
       "    </tr>\n",
       "  </thead>\n",
       "  <tbody>\n",
       "    <tr>\n",
       "      <th>1</th>\n",
       "      <td>5-Jan-10</td>\n",
       "      <td>India</td>\n",
       "      <td>Sri Lanka</td>\n",
       "      <td>Sri Lanka</td>\n",
       "      <td>5 wickets</td>\n",
       "      <td>Dhaka</td>\n",
       "    </tr>\n",
       "    <tr>\n",
       "      <th>2</th>\n",
       "      <td>7-Jan-10</td>\n",
       "      <td>Bangladesh</td>\n",
       "      <td>India</td>\n",
       "      <td>India</td>\n",
       "      <td>6 wickets</td>\n",
       "      <td>Dhaka</td>\n",
       "    </tr>\n",
       "    <tr>\n",
       "      <th>4</th>\n",
       "      <td>10-Jan-10</td>\n",
       "      <td>India</td>\n",
       "      <td>Sri Lanka</td>\n",
       "      <td>India</td>\n",
       "      <td>8 wickets</td>\n",
       "      <td>Dhaka</td>\n",
       "    </tr>\n",
       "    <tr>\n",
       "      <th>5</th>\n",
       "      <td>11-Jan-10</td>\n",
       "      <td>Bangladesh</td>\n",
       "      <td>India</td>\n",
       "      <td>India</td>\n",
       "      <td>6 wickets</td>\n",
       "      <td>Dhaka</td>\n",
       "    </tr>\n",
       "    <tr>\n",
       "      <th>6</th>\n",
       "      <td>13-Jan-10</td>\n",
       "      <td>India</td>\n",
       "      <td>Sri Lanka</td>\n",
       "      <td>Sri Lanka</td>\n",
       "      <td>4 wickets</td>\n",
       "      <td>Dhaka</td>\n",
       "    </tr>\n",
       "  </tbody>\n",
       "</table>\n",
       "</div>"
      ],
      "text/plain": [
       "        date      Team_1     Team_2     Winner     Margin Ground\n",
       "1   5-Jan-10       India  Sri Lanka  Sri Lanka  5 wickets  Dhaka\n",
       "2   7-Jan-10  Bangladesh      India      India  6 wickets  Dhaka\n",
       "4  10-Jan-10       India  Sri Lanka      India  8 wickets  Dhaka\n",
       "5  11-Jan-10  Bangladesh      India      India  6 wickets  Dhaka\n",
       "6  13-Jan-10       India  Sri Lanka  Sri Lanka  4 wickets  Dhaka"
      ]
     },
     "execution_count": 151,
     "metadata": {},
     "output_type": "execute_result"
    }
   ],
   "source": [
    "#checking for India\n",
    "df = results[(results['Team_1'] == 'India') | (results['Team_2'] == 'India')]\n",
    "df.head()"
   ]
  },
  {
   "cell_type": "code",
   "execution_count": 17,
   "id": "0900da1b",
   "metadata": {},
   "outputs": [
    {
     "data": {
      "text/plain": [
       "(198, 6)"
      ]
     },
     "execution_count": 17,
     "metadata": {},
     "output_type": "execute_result"
    }
   ],
   "source": [
    "df.shape"
   ]
  },
  {
   "cell_type": "code",
   "execution_count": 28,
   "id": "90cf18bd",
   "metadata": {},
   "outputs": [
    {
     "name": "stdout",
     "output_type": "stream",
     "text": [
      "61.61616161616161\n"
     ]
    }
   ],
   "source": [
    "#India Win Percentage in past matches\n",
    "print((len(df[df['Winner'] == 'India'])/df.shape[0]) *100.0)"
   ]
  },
  {
   "cell_type": "code",
   "execution_count": 229,
   "id": "80d1c8de",
   "metadata": {},
   "outputs": [],
   "source": [
    "def get_win_percentage(list, data):\n",
    "    my_df = pd.DataFrame(columns=[\"Country\", \"Win_Percentage\"])\n",
    "    country_list = [] \n",
    "    win_Percent_list = []\n",
    "    match_played = []\n",
    "    no_result = []\n",
    "    tied = []\n",
    "    win = []\n",
    "    loss = []\n",
    "    for i in list:\n",
    "        df = data[(data['Team_1'] == i) | (data['Team_2'] == i)] \n",
    "        country_list.append(i)\n",
    "        win.append(df[df['Winner'] == i].shape[0])\n",
    "        loss.append(df[(df['Winner'] != i) & (df['Winner'] != 'no result') & (df['Winner'] != 'tied')].shape[0])\n",
    "        win_Percent_list.append(round(len(df[df['Winner'] == i])/(df.shape[0])*100.0,2))\n",
    "        match_played.append(df.shape[0])\n",
    "        no_result.append(df[df['Winner'] == 'no result'].shape[0])\n",
    "        tied.append(df[df['Winner'] == 'tied'].shape[0])\n",
    "        \n",
    "    my_df['Country'] = country_list\n",
    "    my_df['Total_Matches'] = match_played\n",
    "    my_df['Won'] = win\n",
    "    my_df['Lost'] = loss\n",
    "    my_df['No_result'] = no_result\n",
    "    my_df['Tied'] = tied\n",
    "    my_df['Win_Percentage'] = win_Percent_list\n",
    "\n",
    "    return my_df.sort_values('Win_Percentage',ascending=False)    "
   ]
  },
  {
   "cell_type": "code",
   "execution_count": 230,
   "id": "dcca976c",
   "metadata": {},
   "outputs": [],
   "source": [
    "list_of_participants = ['England', 'South Africa', 'West Indies', 'Pakistan', 'New Zealand', \n",
    "                        'Sri Lanka', 'Afghanistan', 'Australia', 'Bangladesh', 'India']"
   ]
  },
  {
   "cell_type": "code",
   "execution_count": 231,
   "id": "00fa7935",
   "metadata": {},
   "outputs": [],
   "source": [
    "output = get_win_percentage(list_of_participants, results)"
   ]
  },
  {
   "cell_type": "code",
   "execution_count": 232,
   "id": "ba1dc0cf",
   "metadata": {
    "scrolled": true
   },
   "outputs": [
    {
     "data": {
      "text/html": [
       "<div>\n",
       "<style scoped>\n",
       "    .dataframe tbody tr th:only-of-type {\n",
       "        vertical-align: middle;\n",
       "    }\n",
       "\n",
       "    .dataframe tbody tr th {\n",
       "        vertical-align: top;\n",
       "    }\n",
       "\n",
       "    .dataframe thead th {\n",
       "        text-align: right;\n",
       "    }\n",
       "</style>\n",
       "<table border=\"1\" class=\"dataframe\">\n",
       "  <thead>\n",
       "    <tr style=\"text-align: right;\">\n",
       "      <th></th>\n",
       "      <th>Country</th>\n",
       "      <th>Win_Percentage</th>\n",
       "      <th>Total_Matches</th>\n",
       "      <th>Won</th>\n",
       "      <th>Lost</th>\n",
       "      <th>No_result</th>\n",
       "      <th>Tied</th>\n",
       "    </tr>\n",
       "  </thead>\n",
       "  <tbody>\n",
       "    <tr>\n",
       "      <th>1</th>\n",
       "      <td>South Africa</td>\n",
       "      <td>61.84</td>\n",
       "      <td>152</td>\n",
       "      <td>94</td>\n",
       "      <td>53</td>\n",
       "      <td>4</td>\n",
       "      <td>1</td>\n",
       "    </tr>\n",
       "    <tr>\n",
       "      <th>9</th>\n",
       "      <td>India</td>\n",
       "      <td>61.62</td>\n",
       "      <td>198</td>\n",
       "      <td>122</td>\n",
       "      <td>66</td>\n",
       "      <td>6</td>\n",
       "      <td>4</td>\n",
       "    </tr>\n",
       "    <tr>\n",
       "      <th>7</th>\n",
       "      <td>Australia</td>\n",
       "      <td>59.44</td>\n",
       "      <td>180</td>\n",
       "      <td>107</td>\n",
       "      <td>61</td>\n",
       "      <td>11</td>\n",
       "      <td>1</td>\n",
       "    </tr>\n",
       "    <tr>\n",
       "      <th>0</th>\n",
       "      <td>England</td>\n",
       "      <td>53.49</td>\n",
       "      <td>172</td>\n",
       "      <td>92</td>\n",
       "      <td>71</td>\n",
       "      <td>6</td>\n",
       "      <td>3</td>\n",
       "    </tr>\n",
       "    <tr>\n",
       "      <th>3</th>\n",
       "      <td>Pakistan</td>\n",
       "      <td>50.00</td>\n",
       "      <td>174</td>\n",
       "      <td>87</td>\n",
       "      <td>82</td>\n",
       "      <td>3</td>\n",
       "      <td>2</td>\n",
       "    </tr>\n",
       "    <tr>\n",
       "      <th>6</th>\n",
       "      <td>Afghanistan</td>\n",
       "      <td>50.00</td>\n",
       "      <td>80</td>\n",
       "      <td>40</td>\n",
       "      <td>38</td>\n",
       "      <td>2</td>\n",
       "      <td>0</td>\n",
       "    </tr>\n",
       "    <tr>\n",
       "      <th>4</th>\n",
       "      <td>New Zealand</td>\n",
       "      <td>47.74</td>\n",
       "      <td>155</td>\n",
       "      <td>74</td>\n",
       "      <td>71</td>\n",
       "      <td>9</td>\n",
       "      <td>1</td>\n",
       "    </tr>\n",
       "    <tr>\n",
       "      <th>5</th>\n",
       "      <td>Sri Lanka</td>\n",
       "      <td>46.05</td>\n",
       "      <td>215</td>\n",
       "      <td>99</td>\n",
       "      <td>101</td>\n",
       "      <td>13</td>\n",
       "      <td>2</td>\n",
       "    </tr>\n",
       "    <tr>\n",
       "      <th>8</th>\n",
       "      <td>Bangladesh</td>\n",
       "      <td>40.32</td>\n",
       "      <td>124</td>\n",
       "      <td>50</td>\n",
       "      <td>69</td>\n",
       "      <td>5</td>\n",
       "      <td>0</td>\n",
       "    </tr>\n",
       "    <tr>\n",
       "      <th>2</th>\n",
       "      <td>West Indies</td>\n",
       "      <td>34.69</td>\n",
       "      <td>147</td>\n",
       "      <td>51</td>\n",
       "      <td>87</td>\n",
       "      <td>5</td>\n",
       "      <td>4</td>\n",
       "    </tr>\n",
       "  </tbody>\n",
       "</table>\n",
       "</div>"
      ],
      "text/plain": [
       "        Country  Win_Percentage  Total_Matches  Won  Lost  No_result  Tied\n",
       "1  South Africa           61.84            152   94    53          4     1\n",
       "9         India           61.62            198  122    66          6     4\n",
       "7     Australia           59.44            180  107    61         11     1\n",
       "0       England           53.49            172   92    71          6     3\n",
       "3      Pakistan           50.00            174   87    82          3     2\n",
       "6   Afghanistan           50.00             80   40    38          2     0\n",
       "4   New Zealand           47.74            155   74    71          9     1\n",
       "5     Sri Lanka           46.05            215   99   101         13     2\n",
       "8    Bangladesh           40.32            124   50    69          5     0\n",
       "2   West Indies           34.69            147   51    87          5     4"
      ]
     },
     "execution_count": 232,
     "metadata": {},
     "output_type": "execute_result"
    }
   ],
   "source": [
    "output"
   ]
  },
  {
   "cell_type": "code",
   "execution_count": 210,
   "id": "689e355a",
   "metadata": {
    "scrolled": false
   },
   "outputs": [
    {
     "data": {
      "text/plain": [
       "(array([0, 1, 2, 3, 4, 5, 6, 7, 8, 9]), <a list of 10 Text xticklabel objects>)"
      ]
     },
     "execution_count": 210,
     "metadata": {},
     "output_type": "execute_result"
    },
    {
     "data": {
      "image/png": "[encoded data removed]",
      "text/plain": [
       "<Figure size 720x288 with 1 Axes>"
      ]
     },
     "metadata": {
      "needs_background": "light"
     },
     "output_type": "display_data"
    }
   ],
   "source": [
    "plt.figure(figsize=(10,4))\n",
    "sns.barplot(x = 'Country', y = 'Win_Percentage', data = output).set_title('Win percentage for each country')\n",
    "plt.xlabel(\"Country\")\n",
    "plt.ylabel(\"Win Percentage\")\n",
    "plt.xticks(rotation = 60)"
   ]
  },
  {
   "cell_type": "code",
   "execution_count": 247,
   "id": "8af92712",
   "metadata": {},
   "outputs": [
    {
     "data": {
      "text/plain": [
       "(array([0, 1, 2, 3, 4, 5, 6, 7, 8, 9]), <a list of 10 Text xticklabel objects>)"
      ]
     },
     "execution_count": 247,
     "metadata": {},
     "output_type": "execute_result"
    },
    {
     "data": {
      "text/plain": [
       "<Figure size 720x576 with 0 Axes>"
      ]
     },
     "metadata": {},
     "output_type": "display_data"
    },
    {
     "data": {
      "image/png": "[encoded data removed]",
      "text/plain": [
       "<Figure size 432x288 with 1 Axes>"
      ]
     },
     "metadata": {
      "needs_background": "light"
     },
     "output_type": "display_data"
    }
   ],
   "source": [
    "output_subset = output[['Country','Won','Lost','Tied','No_result']]\n",
    "plt.figure(figsize=(10,8))\n",
    "output_subset.plot(x='Country', kind='bar', stacked=True,\n",
    "        title='Stacked Bar Graph by Country')\n",
    "plt.xlabel(\"Country\")\n",
    "plt.ylabel(\"No. of Matches\")\n",
    "plt.xticks(rotation = 60)"
   ]
  },
  {
   "cell_type": "code",
   "execution_count": 158,
   "id": "fa2d30de",
   "metadata": {
    "scrolled": true
   },
   "outputs": [
    {
     "data": {
      "text/html": [
       "<div>\n",
       "<style scoped>\n",
       "    .dataframe tbody tr th:only-of-type {\n",
       "        vertical-align: middle;\n",
       "    }\n",
       "\n",
       "    .dataframe tbody tr th {\n",
       "        vertical-align: top;\n",
       "    }\n",
       "\n",
       "    .dataframe thead th {\n",
       "        text-align: right;\n",
       "    }\n",
       "</style>\n",
       "<table border=\"1\" class=\"dataframe\">\n",
       "  <thead>\n",
       "    <tr style=\"text-align: right;\">\n",
       "      <th></th>\n",
       "      <th>date</th>\n",
       "      <th>Team_1</th>\n",
       "      <th>Team_2</th>\n",
       "      <th>Winner</th>\n",
       "      <th>Margin</th>\n",
       "      <th>Ground</th>\n",
       "    </tr>\n",
       "  </thead>\n",
       "  <tbody>\n",
       "    <tr>\n",
       "      <th>0</th>\n",
       "      <td>4-Jan-10</td>\n",
       "      <td>Bangladesh</td>\n",
       "      <td>Sri Lanka</td>\n",
       "      <td>Sri Lanka</td>\n",
       "      <td>7 wickets</td>\n",
       "      <td>Dhaka</td>\n",
       "    </tr>\n",
       "    <tr>\n",
       "      <th>1</th>\n",
       "      <td>5-Jan-10</td>\n",
       "      <td>India</td>\n",
       "      <td>Sri Lanka</td>\n",
       "      <td>Sri Lanka</td>\n",
       "      <td>5 wickets</td>\n",
       "      <td>Dhaka</td>\n",
       "    </tr>\n",
       "    <tr>\n",
       "      <th>2</th>\n",
       "      <td>7-Jan-10</td>\n",
       "      <td>Bangladesh</td>\n",
       "      <td>India</td>\n",
       "      <td>India</td>\n",
       "      <td>6 wickets</td>\n",
       "      <td>Dhaka</td>\n",
       "    </tr>\n",
       "    <tr>\n",
       "      <th>3</th>\n",
       "      <td>8-Jan-10</td>\n",
       "      <td>Bangladesh</td>\n",
       "      <td>Sri Lanka</td>\n",
       "      <td>Sri Lanka</td>\n",
       "      <td>9 wickets</td>\n",
       "      <td>Dhaka</td>\n",
       "    </tr>\n",
       "    <tr>\n",
       "      <th>4</th>\n",
       "      <td>10-Jan-10</td>\n",
       "      <td>India</td>\n",
       "      <td>Sri Lanka</td>\n",
       "      <td>India</td>\n",
       "      <td>8 wickets</td>\n",
       "      <td>Dhaka</td>\n",
       "    </tr>\n",
       "  </tbody>\n",
       "</table>\n",
       "</div>"
      ],
      "text/plain": [
       "        date      Team_1     Team_2     Winner     Margin Ground\n",
       "0   4-Jan-10  Bangladesh  Sri Lanka  Sri Lanka  7 wickets  Dhaka\n",
       "1   5-Jan-10       India  Sri Lanka  Sri Lanka  5 wickets  Dhaka\n",
       "2   7-Jan-10  Bangladesh      India      India  6 wickets  Dhaka\n",
       "3   8-Jan-10  Bangladesh  Sri Lanka  Sri Lanka  9 wickets  Dhaka\n",
       "4  10-Jan-10       India  Sri Lanka      India  8 wickets  Dhaka"
      ]
     },
     "execution_count": 158,
     "metadata": {},
     "output_type": "execute_result"
    }
   ],
   "source": [
    "results.head()"
   ]
  },
  {
   "cell_type": "code",
   "execution_count": 169,
   "id": "3072c459",
   "metadata": {},
   "outputs": [],
   "source": [
    "#cleaning date column for exploration\n",
    "results.loc[results.date == 'Jul 3-4, 2010', 'date'] = '03-07-2010'\n",
    "results.loc[results.date == 'Aug 19-20, 2010', 'date'] = '19-08-2010'\n",
    "results.loc[results.date == 'Jul 11-12, 2012', 'date'] = '11-07-2013'\n",
    "results.loc[results.date == 'Jul 2-3, 2013', 'date'] = '02-07-2013'\n",
    "results.loc[results.date == 'Jul 7-8, 2013', 'date'] = '03-07-2013'\n",
    "results.loc[results.date == 'Aug 27-28, 2013', 'date'] = '27-08-2013'\n",
    "results.loc[results.date == 'Dec 10-11, 2014', 'date'] = '10-12-2014'"
   ]
  },
  {
   "cell_type": "code",
   "execution_count": 183,
   "id": "b48065d3",
   "metadata": {},
   "outputs": [],
   "source": [
    "#focusing on matches since 2011 (Current completed decade)\n",
    "year = []\n",
    "for row in results['date']:\n",
    "    year.append(int(row[7:]))\n",
    "results['match_year']= year\n",
    "results_2011 = results[results.match_year >= 11]\n",
    "#print((len(df_2010[df_2010['Winner'] == 'India'])/df_2010.shape[0]) *100.0)"
   ]
  },
  {
   "cell_type": "code",
   "execution_count": 184,
   "id": "4da6b1e8",
   "metadata": {
    "scrolled": true
   },
   "outputs": [
    {
     "data": {
      "text/html": [
       "<div>\n",
       "<style scoped>\n",
       "    .dataframe tbody tr th:only-of-type {\n",
       "        vertical-align: middle;\n",
       "    }\n",
       "\n",
       "    .dataframe tbody tr th {\n",
       "        vertical-align: top;\n",
       "    }\n",
       "\n",
       "    .dataframe thead th {\n",
       "        text-align: right;\n",
       "    }\n",
       "</style>\n",
       "<table border=\"1\" class=\"dataframe\">\n",
       "  <thead>\n",
       "    <tr style=\"text-align: right;\">\n",
       "      <th></th>\n",
       "      <th>date</th>\n",
       "      <th>Team_1</th>\n",
       "      <th>Team_2</th>\n",
       "      <th>Winner</th>\n",
       "      <th>Margin</th>\n",
       "      <th>Ground</th>\n",
       "      <th>match_year</th>\n",
       "    </tr>\n",
       "  </thead>\n",
       "  <tbody>\n",
       "    <tr>\n",
       "      <th>142</th>\n",
       "      <td>12-Jan-11</td>\n",
       "      <td>South Africa</td>\n",
       "      <td>India</td>\n",
       "      <td>South Africa</td>\n",
       "      <td>135 runs</td>\n",
       "      <td>Durban</td>\n",
       "      <td>11</td>\n",
       "    </tr>\n",
       "    <tr>\n",
       "      <th>143</th>\n",
       "      <td>15-Jan-11</td>\n",
       "      <td>South Africa</td>\n",
       "      <td>India</td>\n",
       "      <td>India</td>\n",
       "      <td>1 run</td>\n",
       "      <td>Johannesburg</td>\n",
       "      <td>11</td>\n",
       "    </tr>\n",
       "    <tr>\n",
       "      <th>144</th>\n",
       "      <td>16-Jan-11</td>\n",
       "      <td>Australia</td>\n",
       "      <td>England</td>\n",
       "      <td>Australia</td>\n",
       "      <td>6 wickets</td>\n",
       "      <td>Melbourne</td>\n",
       "      <td>11</td>\n",
       "    </tr>\n",
       "    <tr>\n",
       "      <th>145</th>\n",
       "      <td>18-Jan-11</td>\n",
       "      <td>South Africa</td>\n",
       "      <td>India</td>\n",
       "      <td>India</td>\n",
       "      <td>2 wickets</td>\n",
       "      <td>Cape Town</td>\n",
       "      <td>11</td>\n",
       "    </tr>\n",
       "    <tr>\n",
       "      <th>146</th>\n",
       "      <td>21-Jan-11</td>\n",
       "      <td>Australia</td>\n",
       "      <td>England</td>\n",
       "      <td>Australia</td>\n",
       "      <td>46 runs</td>\n",
       "      <td>Hobart</td>\n",
       "      <td>11</td>\n",
       "    </tr>\n",
       "  </tbody>\n",
       "</table>\n",
       "</div>"
      ],
      "text/plain": [
       "          date        Team_1   Team_2        Winner     Margin        Ground  \\\n",
       "142  12-Jan-11  South Africa    India  South Africa   135 runs        Durban   \n",
       "143  15-Jan-11  South Africa    India         India      1 run  Johannesburg   \n",
       "144  16-Jan-11     Australia  England     Australia  6 wickets     Melbourne   \n",
       "145  18-Jan-11  South Africa    India         India  2 wickets     Cape Town   \n",
       "146  21-Jan-11     Australia  England     Australia    46 runs        Hobart   \n",
       "\n",
       "     match_year  \n",
       "142          11  \n",
       "143          11  \n",
       "144          11  \n",
       "145          11  \n",
       "146          11  "
      ]
     },
     "execution_count": 184,
     "metadata": {},
     "output_type": "execute_result"
    }
   ],
   "source": [
    "results_2011.head()"
   ]
  },
  {
   "cell_type": "code",
   "execution_count": 185,
   "id": "b3e8df7b",
   "metadata": {},
   "outputs": [],
   "source": [
    "output_2011 = get_win_percentage(list_of_participants, results_2011)"
   ]
  },
  {
   "cell_type": "code",
   "execution_count": 186,
   "id": "f5924a3f",
   "metadata": {
    "scrolled": true
   },
   "outputs": [
    {
     "data": {
      "text/plain": [
       "(array([0, 1, 2, 3, 4, 5, 6, 7, 8, 9]), <a list of 10 Text xticklabel objects>)"
      ]
     },
     "execution_count": 186,
     "metadata": {},
     "output_type": "execute_result"
    },
    {
     "data": {
      "image/png": "[encoded data removed]",
      "text/plain": [
       "<Figure size 720x288 with 1 Axes>"
      ]
     },
     "metadata": {
      "needs_background": "light"
     },
     "output_type": "display_data"
    }
   ],
   "source": [
    "plt.figure(figsize=(10,4))\n",
    "sns.barplot(x = 'Country', y = 'Win_Percentage', data = output_2011).set_title('Win percentage for each country')\n",
    "plt.xlabel(\"Country\")\n",
    "plt.ylabel(\"Win Percentage\")\n",
    "plt.xticks(rotation = 60)"
   ]
  },
  {
   "cell_type": "code",
   "execution_count": null,
   "id": "1074055a",
   "metadata": {},
   "outputs": [],
   "source": []
  },
  {
   "cell_type": "code",
   "execution_count": null,
   "id": "26653a7b",
   "metadata": {},
   "outputs": [],
   "source": []
  },
  {
   "cell_type": "code",
   "execution_count": null,
   "id": "2515fa6a",
   "metadata": {},
   "outputs": [],
   "source": []
  },
  {
   "cell_type": "code",
   "execution_count": null,
   "id": "dd857eff",
   "metadata": {},
   "outputs": [],
   "source": []
  },
  {
   "cell_type": "code",
   "execution_count": null,
   "id": "069d2876",
   "metadata": {},
   "outputs": [],
   "source": []
  }
 ],
 "metadata": {
  "kernelspec": {
   "display_name": "Python 3",
   "language": "python",
   "name": "python3"
  },
  "language_info": {
   "codemirror_mode": {
    "name": "ipython",
    "version": 3
   },
   "file_extension": ".py",
   "mimetype": "text/x-python",
   "name": "python",
   "nbconvert_exporter": "python",
   "pygments_lexer": "ipython3",
   "version": "3.7.12"
  }
 },
 "nbformat": 4,
 "nbformat_minor": 5
}
