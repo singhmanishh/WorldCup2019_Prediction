{
 "cells": [
  {
   "cell_type": "code",
   "execution_count": 5,
   "id": "36afe46b",
   "metadata": {},
   "outputs": [],
   "source": [
    "import warnings\n",
    "warnings.filterwarnings('ignore')"
   ]
  },
  {
   "cell_type": "code",
   "execution_count": 6,
   "id": "07144a0a",
   "metadata": {},
   "outputs": [
    {
     "name": "stdout",
     "output_type": "stream",
     "text": [
      "Collecting seaborn\n",
      "\u001b[?25l  Downloading https://files.pythonhosted.org/packages/10/5b/0479d7d845b5ba410ca702ffcd7f2cd95a14a4dfff1fde2637802b258b9b/seaborn-0.11.2-py3-none-any.whl (292kB)\n",
      "\u001b[K     |████████████████████████████████| 296kB 25.1MB/s eta 0:00:01\n",
      "\u001b[?25hRequirement already satisfied: pandas>=0.23 in /opt/conda/lib/python3.7/site-packages (from seaborn) (1.1.4)\n",
      "Requirement already satisfied: scipy>=1.0 in /opt/conda/lib/python3.7/site-packages (from seaborn) (1.7.3)\n",
      "Requirement already satisfied: matplotlib>=2.2 in /opt/conda/lib/python3.7/site-packages (from seaborn) (3.1.1)\n",
      "Requirement already satisfied: numpy>=1.15 in /opt/conda/lib/python3.7/site-packages (from seaborn) (1.21.4)\n",
      "Requirement already satisfied: pytz>=2017.2 in /opt/conda/lib/python3.7/site-packages (from pandas>=0.23->seaborn) (2021.3)\n",
      "Requirement already satisfied: python-dateutil>=2.7.3 in /opt/conda/lib/python3.7/site-packages (from pandas>=0.23->seaborn) (2.8.2)\n",
      "Requirement already satisfied: cycler>=0.10 in /opt/conda/lib/python3.7/site-packages (from matplotlib>=2.2->seaborn) (0.11.0)\n",
      "Requirement already satisfied: pyparsing!=2.0.4,!=2.1.2,!=2.1.6,>=2.0.1 in /opt/conda/lib/python3.7/site-packages (from matplotlib>=2.2->seaborn) (3.0.6)\n",
      "Requirement already satisfied: kiwisolver>=1.0.1 in /opt/conda/lib/python3.7/site-packages (from matplotlib>=2.2->seaborn) (1.3.2)\n",
      "Requirement already satisfied: six>=1.5 in /opt/conda/lib/python3.7/site-packages (from python-dateutil>=2.7.3->pandas>=0.23->seaborn) (1.16.0)\n",
      "Installing collected packages: seaborn\n",
      "Successfully installed seaborn-0.11.2\n",
      "\u001b[33mWARNING: You are using pip version 19.3.1; however, version 21.3.1 is available.\n",
      "You should consider upgrading via the 'pip install --upgrade pip' command.\u001b[0m\n"
     ]
    }
   ],
   "source": [
    "!pip install seaborn\n",
    "#import all libraries and dependencies\n",
    "import pandas as pd\n",
    "import numpy as np\n",
    "import matplotlib.pyplot as plt\n",
    "import seaborn as sns\n",
    "import matplotlib.ticker as ticker\n",
    "import matplotlib.ticker as plticker\n",
    "from sklearn.model_selection import train_test_split\n",
    "from sklearn.ensemble import RandomForestClassifier\n",
    "from sklearn.datasets import make_classification"
   ]
  },
  {
   "cell_type": "code",
   "execution_count": 7,
   "id": "03c8c4a5",
   "metadata": {},
   "outputs": [],
   "source": [
    "world_cup = pd.read_csv('World Cup 2019 Dataset.csv')\n",
    "results = pd.read_csv('results.csv')"
   ]
  },
  {
   "cell_type": "code",
   "execution_count": 8,
   "id": "42747c28",
   "metadata": {},
   "outputs": [],
   "source": [
    "#narrowing to team patcipating in the world cup\n",
    "worldcup_teams = ['England', ' South Africa', '', 'West Indies', \n",
    "            'Pakistan', 'New Zealand', 'Sri Lanka', 'Afghanistan', \n",
    "            'Australia', 'Bangladesh', 'India']"
   ]
  },
  {
   "cell_type": "code",
   "execution_count": 9,
   "id": "4c1e4432",
   "metadata": {},
   "outputs": [],
   "source": [
    "#cleaning date column for exploration\n",
    "results.loc[results.date == 'Jul 3-4, 2010', 'date'] = '03-07-2010'\n",
    "results.loc[results.date == 'Aug 19-20, 2010', 'date'] = '19-08-2010'\n",
    "results.loc[results.date == 'Jul 11-12, 2012', 'date'] = '11-07-2013'\n",
    "results.loc[results.date == 'Jul 2-3, 2013', 'date'] = '02-07-2013'\n",
    "results.loc[results.date == 'Jul 7-8, 2013', 'date'] = '03-07-2013'\n",
    "results.loc[results.date == 'Aug 27-28, 2013', 'date'] = '27-08-2013'\n",
    "results.loc[results.date == 'Dec 10-11, 2014', 'date'] = '10-12-2014'"
   ]
  },
  {
   "cell_type": "code",
   "execution_count": 10,
   "id": "9056ff9d",
   "metadata": {},
   "outputs": [],
   "source": [
    "df_teams_final  = results[(results['Team_1'].isin(worldcup_teams)) & (results['Team_2'].isin(worldcup_teams))]"
   ]
  },
  {
   "cell_type": "code",
   "execution_count": 11,
   "id": "0b337a75",
   "metadata": {},
   "outputs": [],
   "source": [
    "#df_teams_1 = results[results['Team_1'].isin(worldcup_teams)]\n",
    "#df_teams_2 = results[results['Team_2'].isin(worldcup_teams)]\n",
    "#df_teams = pd.concat((df_teams_1, df_teams_2))\n",
    "#df_teams.drop_duplicates()"
   ]
  },
  {
   "cell_type": "code",
   "execution_count": 12,
   "id": "d07dc1da",
   "metadata": {},
   "outputs": [],
   "source": [
    "year = []\n",
    "for row in df_teams_final['date']:\n",
    "    year.append(int(row[7:]))\n",
    "df_teams_final['match_year']= year\n",
    "df_teams_2011 = df_teams_final\n",
    "#df_teams_2011 = df_teams_final[df_teams_final.match_year >= 11]"
   ]
  },
  {
   "cell_type": "code",
   "execution_count": 13,
   "id": "8229a645",
   "metadata": {},
   "outputs": [
    {
     "data": {
      "text/html": [
       "<div>\n",
       "<style scoped>\n",
       "    .dataframe tbody tr th:only-of-type {\n",
       "        vertical-align: middle;\n",
       "    }\n",
       "\n",
       "    .dataframe tbody tr th {\n",
       "        vertical-align: top;\n",
       "    }\n",
       "\n",
       "    .dataframe thead th {\n",
       "        text-align: right;\n",
       "    }\n",
       "</style>\n",
       "<table border=\"1\" class=\"dataframe\">\n",
       "  <thead>\n",
       "    <tr style=\"text-align: right;\">\n",
       "      <th></th>\n",
       "      <th>Team_1</th>\n",
       "      <th>Team_2</th>\n",
       "      <th>Winner</th>\n",
       "    </tr>\n",
       "  </thead>\n",
       "  <tbody>\n",
       "    <tr>\n",
       "      <th>0</th>\n",
       "      <td>Bangladesh</td>\n",
       "      <td>Sri Lanka</td>\n",
       "      <td>Sri Lanka</td>\n",
       "    </tr>\n",
       "    <tr>\n",
       "      <th>1</th>\n",
       "      <td>India</td>\n",
       "      <td>Sri Lanka</td>\n",
       "      <td>Sri Lanka</td>\n",
       "    </tr>\n",
       "    <tr>\n",
       "      <th>2</th>\n",
       "      <td>Bangladesh</td>\n",
       "      <td>India</td>\n",
       "      <td>India</td>\n",
       "    </tr>\n",
       "    <tr>\n",
       "      <th>3</th>\n",
       "      <td>Bangladesh</td>\n",
       "      <td>Sri Lanka</td>\n",
       "      <td>Sri Lanka</td>\n",
       "    </tr>\n",
       "    <tr>\n",
       "      <th>4</th>\n",
       "      <td>India</td>\n",
       "      <td>Sri Lanka</td>\n",
       "      <td>India</td>\n",
       "    </tr>\n",
       "  </tbody>\n",
       "</table>\n",
       "</div>"
      ],
      "text/plain": [
       "       Team_1     Team_2     Winner\n",
       "0  Bangladesh  Sri Lanka  Sri Lanka\n",
       "1       India  Sri Lanka  Sri Lanka\n",
       "2  Bangladesh      India      India\n",
       "3  Bangladesh  Sri Lanka  Sri Lanka\n",
       "4       India  Sri Lanka      India"
      ]
     },
     "execution_count": 13,
     "metadata": {},
     "output_type": "execute_result"
    }
   ],
   "source": [
    "#dropping columns that wll not affect match outcomes\n",
    "df_teams_2011 = df_teams_2011.drop(['date','Margin', 'Ground','match_year'], axis=1)\n",
    "df_teams_2011.head()"
   ]
  },
  {
   "cell_type": "code",
   "execution_count": 14,
   "id": "9b54390a",
   "metadata": {},
   "outputs": [
    {
     "data": {
      "text/html": [
       "<div>\n",
       "<style scoped>\n",
       "    .dataframe tbody tr th:only-of-type {\n",
       "        vertical-align: middle;\n",
       "    }\n",
       "\n",
       "    .dataframe tbody tr th {\n",
       "        vertical-align: top;\n",
       "    }\n",
       "\n",
       "    .dataframe thead th {\n",
       "        text-align: right;\n",
       "    }\n",
       "</style>\n",
       "<table border=\"1\" class=\"dataframe\">\n",
       "  <thead>\n",
       "    <tr style=\"text-align: right;\">\n",
       "      <th></th>\n",
       "      <th>Team_1</th>\n",
       "      <th>Team_2</th>\n",
       "      <th>Winner</th>\n",
       "    </tr>\n",
       "  </thead>\n",
       "  <tbody>\n",
       "    <tr>\n",
       "      <th>0</th>\n",
       "      <td>Bangladesh</td>\n",
       "      <td>Sri Lanka</td>\n",
       "      <td>Sri Lanka</td>\n",
       "    </tr>\n",
       "    <tr>\n",
       "      <th>1</th>\n",
       "      <td>India</td>\n",
       "      <td>Sri Lanka</td>\n",
       "      <td>Sri Lanka</td>\n",
       "    </tr>\n",
       "    <tr>\n",
       "      <th>2</th>\n",
       "      <td>Bangladesh</td>\n",
       "      <td>India</td>\n",
       "      <td>India</td>\n",
       "    </tr>\n",
       "    <tr>\n",
       "      <th>3</th>\n",
       "      <td>Bangladesh</td>\n",
       "      <td>Sri Lanka</td>\n",
       "      <td>Sri Lanka</td>\n",
       "    </tr>\n",
       "    <tr>\n",
       "      <th>4</th>\n",
       "      <td>India</td>\n",
       "      <td>Sri Lanka</td>\n",
       "      <td>India</td>\n",
       "    </tr>\n",
       "  </tbody>\n",
       "</table>\n",
       "</div>"
      ],
      "text/plain": [
       "       Team_1     Team_2     Winner\n",
       "0  Bangladesh  Sri Lanka  Sri Lanka\n",
       "1       India  Sri Lanka  Sri Lanka\n",
       "2  Bangladesh      India      India\n",
       "3  Bangladesh  Sri Lanka  Sri Lanka\n",
       "4       India  Sri Lanka      India"
      ]
     },
     "execution_count": 14,
     "metadata": {},
     "output_type": "execute_result"
    }
   ],
   "source": [
    "#Building the model\n",
    "#the prediction label: The winning_team column will show \"1\" Team 1 has won and \"2\" if the away team has won.\n",
    "\n",
    "df_teams_2011 = df_teams_2011.reset_index(drop=True)\n",
    "df_teams_2011.loc[df_teams_2011.Winner == df_teams_2011.Team_1,'winning_team']=1\n",
    "df_teams_2011.loc[df_teams_2011.Winner == df_teams_2011.Team_2, 'winning_team']=2\n",
    "df_teams_2011 = df_teams_2011.drop(['winning_team'], axis=1)\n",
    "\n",
    "df_teams_2011.head()"
   ]
  },
  {
   "cell_type": "code",
   "execution_count": 15,
   "id": "cf7e017b",
   "metadata": {},
   "outputs": [],
   "source": [
    "#convert team-1 and team-2 from categorical variables to continous inputs \n",
    "# Get dummy variables\n",
    "final = pd.get_dummies(df_teams_2011, prefix=['Team_1', 'Team_2'], columns=['Team_1', 'Team_2'])\n",
    "\n",
    "# Separate X and y sets\n",
    "X = final.drop(['Winner'], axis=1)\n",
    "y = final[\"Winner\"]\n",
    "\n",
    "\n",
    "# Separate train and test sets\n",
    "X_train, X_test, y_train, y_test = train_test_split(X, y, test_size=0.30, random_state=101)"
   ]
  },
  {
   "cell_type": "code",
   "execution_count": 16,
   "id": "8dab2845",
   "metadata": {},
   "outputs": [
    {
     "data": {
      "text/html": [
       "<div>\n",
       "<style scoped>\n",
       "    .dataframe tbody tr th:only-of-type {\n",
       "        vertical-align: middle;\n",
       "    }\n",
       "\n",
       "    .dataframe tbody tr th {\n",
       "        vertical-align: top;\n",
       "    }\n",
       "\n",
       "    .dataframe thead th {\n",
       "        text-align: right;\n",
       "    }\n",
       "</style>\n",
       "<table border=\"1\" class=\"dataframe\">\n",
       "  <thead>\n",
       "    <tr style=\"text-align: right;\">\n",
       "      <th></th>\n",
       "      <th>Winner</th>\n",
       "      <th>Team_1_Afghanistan</th>\n",
       "      <th>Team_1_Australia</th>\n",
       "      <th>Team_1_Bangladesh</th>\n",
       "      <th>Team_1_England</th>\n",
       "      <th>Team_1_India</th>\n",
       "      <th>Team_1_New Zealand</th>\n",
       "      <th>Team_1_Pakistan</th>\n",
       "      <th>Team_1_Sri Lanka</th>\n",
       "      <th>Team_1_West Indies</th>\n",
       "      <th>Team_2_Afghanistan</th>\n",
       "      <th>Team_2_Australia</th>\n",
       "      <th>Team_2_Bangladesh</th>\n",
       "      <th>Team_2_England</th>\n",
       "      <th>Team_2_India</th>\n",
       "      <th>Team_2_New Zealand</th>\n",
       "      <th>Team_2_Pakistan</th>\n",
       "      <th>Team_2_Sri Lanka</th>\n",
       "      <th>Team_2_West Indies</th>\n",
       "    </tr>\n",
       "  </thead>\n",
       "  <tbody>\n",
       "    <tr>\n",
       "      <th>0</th>\n",
       "      <td>Sri Lanka</td>\n",
       "      <td>0</td>\n",
       "      <td>0</td>\n",
       "      <td>1</td>\n",
       "      <td>0</td>\n",
       "      <td>0</td>\n",
       "      <td>0</td>\n",
       "      <td>0</td>\n",
       "      <td>0</td>\n",
       "      <td>0</td>\n",
       "      <td>0</td>\n",
       "      <td>0</td>\n",
       "      <td>0</td>\n",
       "      <td>0</td>\n",
       "      <td>0</td>\n",
       "      <td>0</td>\n",
       "      <td>0</td>\n",
       "      <td>1</td>\n",
       "      <td>0</td>\n",
       "    </tr>\n",
       "    <tr>\n",
       "      <th>1</th>\n",
       "      <td>Sri Lanka</td>\n",
       "      <td>0</td>\n",
       "      <td>0</td>\n",
       "      <td>0</td>\n",
       "      <td>0</td>\n",
       "      <td>1</td>\n",
       "      <td>0</td>\n",
       "      <td>0</td>\n",
       "      <td>0</td>\n",
       "      <td>0</td>\n",
       "      <td>0</td>\n",
       "      <td>0</td>\n",
       "      <td>0</td>\n",
       "      <td>0</td>\n",
       "      <td>0</td>\n",
       "      <td>0</td>\n",
       "      <td>0</td>\n",
       "      <td>1</td>\n",
       "      <td>0</td>\n",
       "    </tr>\n",
       "    <tr>\n",
       "      <th>2</th>\n",
       "      <td>India</td>\n",
       "      <td>0</td>\n",
       "      <td>0</td>\n",
       "      <td>1</td>\n",
       "      <td>0</td>\n",
       "      <td>0</td>\n",
       "      <td>0</td>\n",
       "      <td>0</td>\n",
       "      <td>0</td>\n",
       "      <td>0</td>\n",
       "      <td>0</td>\n",
       "      <td>0</td>\n",
       "      <td>0</td>\n",
       "      <td>0</td>\n",
       "      <td>1</td>\n",
       "      <td>0</td>\n",
       "      <td>0</td>\n",
       "      <td>0</td>\n",
       "      <td>0</td>\n",
       "    </tr>\n",
       "    <tr>\n",
       "      <th>3</th>\n",
       "      <td>Sri Lanka</td>\n",
       "      <td>0</td>\n",
       "      <td>0</td>\n",
       "      <td>1</td>\n",
       "      <td>0</td>\n",
       "      <td>0</td>\n",
       "      <td>0</td>\n",
       "      <td>0</td>\n",
       "      <td>0</td>\n",
       "      <td>0</td>\n",
       "      <td>0</td>\n",
       "      <td>0</td>\n",
       "      <td>0</td>\n",
       "      <td>0</td>\n",
       "      <td>0</td>\n",
       "      <td>0</td>\n",
       "      <td>0</td>\n",
       "      <td>1</td>\n",
       "      <td>0</td>\n",
       "    </tr>\n",
       "    <tr>\n",
       "      <th>4</th>\n",
       "      <td>India</td>\n",
       "      <td>0</td>\n",
       "      <td>0</td>\n",
       "      <td>0</td>\n",
       "      <td>0</td>\n",
       "      <td>1</td>\n",
       "      <td>0</td>\n",
       "      <td>0</td>\n",
       "      <td>0</td>\n",
       "      <td>0</td>\n",
       "      <td>0</td>\n",
       "      <td>0</td>\n",
       "      <td>0</td>\n",
       "      <td>0</td>\n",
       "      <td>0</td>\n",
       "      <td>0</td>\n",
       "      <td>0</td>\n",
       "      <td>1</td>\n",
       "      <td>0</td>\n",
       "    </tr>\n",
       "  </tbody>\n",
       "</table>\n",
       "</div>"
      ],
      "text/plain": [
       "      Winner  Team_1_Afghanistan  Team_1_Australia  Team_1_Bangladesh  \\\n",
       "0  Sri Lanka                   0                 0                  1   \n",
       "1  Sri Lanka                   0                 0                  0   \n",
       "2      India                   0                 0                  1   \n",
       "3  Sri Lanka                   0                 0                  1   \n",
       "4      India                   0                 0                  0   \n",
       "\n",
       "   Team_1_England  Team_1_India  Team_1_New Zealand  Team_1_Pakistan  \\\n",
       "0               0             0                   0                0   \n",
       "1               0             1                   0                0   \n",
       "2               0             0                   0                0   \n",
       "3               0             0                   0                0   \n",
       "4               0             1                   0                0   \n",
       "\n",
       "   Team_1_Sri Lanka  Team_1_West Indies  Team_2_Afghanistan  Team_2_Australia  \\\n",
       "0                 0                   0                   0                 0   \n",
       "1                 0                   0                   0                 0   \n",
       "2                 0                   0                   0                 0   \n",
       "3                 0                   0                   0                 0   \n",
       "4                 0                   0                   0                 0   \n",
       "\n",
       "   Team_2_Bangladesh  Team_2_England  Team_2_India  Team_2_New Zealand  \\\n",
       "0                  0               0             0                   0   \n",
       "1                  0               0             0                   0   \n",
       "2                  0               0             1                   0   \n",
       "3                  0               0             0                   0   \n",
       "4                  0               0             0                   0   \n",
       "\n",
       "   Team_2_Pakistan  Team_2_Sri Lanka  Team_2_West Indies  \n",
       "0                0                 1                   0  \n",
       "1                0                 1                   0  \n",
       "2                0                 0                   0  \n",
       "3                0                 1                   0  \n",
       "4                0                 1                   0  "
      ]
     },
     "execution_count": 16,
     "metadata": {},
     "output_type": "execute_result"
    }
   ],
   "source": [
    "final.head()"
   ]
  },
  {
   "cell_type": "code",
   "execution_count": 17,
   "id": "5cfdc4e0",
   "metadata": {},
   "outputs": [
    {
     "name": "stdout",
     "output_type": "stream",
     "text": [
      "Training set accuracy:  0.701\n",
      "Test set accuracy:  0.633\n"
     ]
    }
   ],
   "source": [
    "rf = RandomForestClassifier(n_estimators=100, max_depth=7,\n",
    "                              random_state=101)\n",
    "rf.fit(X_train, y_train) \n",
    "\n",
    "\n",
    "score = rf.score(X_train, y_train)\n",
    "score2 = rf.score(X_test, y_test)\n",
    "\n",
    "\n",
    "print(\"Training set accuracy: \", '%.3f'%(score))\n",
    "print(\"Test set accuracy: \", '%.3f'%(score2))"
   ]
  },
  {
   "cell_type": "code",
   "execution_count": 18,
   "id": "eefe4732",
   "metadata": {},
   "outputs": [],
   "source": [
    "#leveraging ICC rankings\n",
    "#the team which is positioned higher on the ICC Ranking will be considered \"favourite\" for the match\n",
    "#and therefore, will be positioned under the \"Team_1\" column\n",
    "\n",
    "# Loading new datasets\n",
    "ranking = pd.read_csv('icc_rankings.csv') \n",
    "fixtures = pd.read_csv('fixtures.csv')"
   ]
  },
  {
   "cell_type": "code",
   "execution_count": 19,
   "id": "c9038da2",
   "metadata": {
    "scrolled": true
   },
   "outputs": [
    {
     "data": {
      "text/html": [
       "<div>\n",
       "<style scoped>\n",
       "    .dataframe tbody tr th:only-of-type {\n",
       "        vertical-align: middle;\n",
       "    }\n",
       "\n",
       "    .dataframe tbody tr th {\n",
       "        vertical-align: top;\n",
       "    }\n",
       "\n",
       "    .dataframe thead th {\n",
       "        text-align: right;\n",
       "    }\n",
       "</style>\n",
       "<table border=\"1\" class=\"dataframe\">\n",
       "  <thead>\n",
       "    <tr style=\"text-align: right;\">\n",
       "      <th></th>\n",
       "      <th>Round Number</th>\n",
       "      <th>first_position</th>\n",
       "      <th>second_position</th>\n",
       "      <th>Date</th>\n",
       "      <th>Location</th>\n",
       "      <th>Team_1</th>\n",
       "      <th>Team_2</th>\n",
       "      <th>Group</th>\n",
       "      <th>Result</th>\n",
       "    </tr>\n",
       "  </thead>\n",
       "  <tbody>\n",
       "    <tr>\n",
       "      <th>40</th>\n",
       "      <td>1</td>\n",
       "      <td>1.0</td>\n",
       "      <td>4.0</td>\n",
       "      <td>3/7/2019</td>\n",
       "      <td>Riverside Ground, Chester-le-Street</td>\n",
       "      <td>England</td>\n",
       "      <td>New Zealand</td>\n",
       "      <td>Group A</td>\n",
       "      <td>NaN</td>\n",
       "    </tr>\n",
       "    <tr>\n",
       "      <th>41</th>\n",
       "      <td>1</td>\n",
       "      <td>10.0</td>\n",
       "      <td>8.0</td>\n",
       "      <td>4/7/2019</td>\n",
       "      <td>Headingley, Leeds</td>\n",
       "      <td>Afghanistan</td>\n",
       "      <td>West Indies</td>\n",
       "      <td>Group A</td>\n",
       "      <td>NaN</td>\n",
       "    </tr>\n",
       "    <tr>\n",
       "      <th>42</th>\n",
       "      <td>1</td>\n",
       "      <td>6.0</td>\n",
       "      <td>7.0</td>\n",
       "      <td>5/7/2019</td>\n",
       "      <td>Lord's, London</td>\n",
       "      <td>Pakistan</td>\n",
       "      <td>Bangladesh</td>\n",
       "      <td>Group A</td>\n",
       "      <td>NaN</td>\n",
       "    </tr>\n",
       "    <tr>\n",
       "      <th>43</th>\n",
       "      <td>1</td>\n",
       "      <td>9.0</td>\n",
       "      <td>2.0</td>\n",
       "      <td>6/7/2019</td>\n",
       "      <td>Headingley, Leeds</td>\n",
       "      <td>Sri Lanka</td>\n",
       "      <td>India</td>\n",
       "      <td>Group A</td>\n",
       "      <td>NaN</td>\n",
       "    </tr>\n",
       "    <tr>\n",
       "      <th>44</th>\n",
       "      <td>1</td>\n",
       "      <td>5.0</td>\n",
       "      <td>3.0</td>\n",
       "      <td>6/7/2019</td>\n",
       "      <td>Emirates Old Trafford, Manchester</td>\n",
       "      <td>Australia</td>\n",
       "      <td>South Africa</td>\n",
       "      <td>Group A</td>\n",
       "      <td>NaN</td>\n",
       "    </tr>\n",
       "  </tbody>\n",
       "</table>\n",
       "</div>"
      ],
      "text/plain": [
       "   Round Number  first_position  second_position      Date  \\\n",
       "40            1             1.0              4.0  3/7/2019   \n",
       "41            1            10.0              8.0  4/7/2019   \n",
       "42            1             6.0              7.0  5/7/2019   \n",
       "43            1             9.0              2.0  6/7/2019   \n",
       "44            1             5.0              3.0  6/7/2019   \n",
       "\n",
       "                               Location       Team_1        Team_2   Group   \\\n",
       "40  Riverside Ground, Chester-le-Street      England   New Zealand  Group A   \n",
       "41                    Headingley, Leeds  Afghanistan   West Indies  Group A   \n",
       "42                       Lord's, London     Pakistan    Bangladesh  Group A   \n",
       "43                    Headingley, Leeds    Sri Lanka         India  Group A   \n",
       "44    Emirates Old Trafford, Manchester    Australia  South Africa  Group A   \n",
       "\n",
       "    Result  \n",
       "40     NaN  \n",
       "41     NaN  \n",
       "42     NaN  \n",
       "43     NaN  \n",
       "44     NaN  "
      ]
     },
     "execution_count": 19,
     "metadata": {},
     "output_type": "execute_result"
    }
   ],
   "source": [
    "# Create new columns with ranking position of each team\n",
    "fixtures.insert(1, 'first_position', fixtures['Team_1'].map(ranking.set_index('Team')['Position']))\n",
    "fixtures.insert(2, 'second_position', fixtures['Team_2'].map(ranking.set_index('Team')['Position']))\n",
    "\n",
    "# We only need the group stage games, so we have to slice the dataset\n",
    "fixtures = fixtures.iloc[:45, :]\n",
    "fixtures.tail()"
   ]
  },
  {
   "cell_type": "code",
   "execution_count": 20,
   "id": "b469dbb7",
   "metadata": {},
   "outputs": [
    {
     "data": {
      "text/html": [
       "<div>\n",
       "<style scoped>\n",
       "    .dataframe tbody tr th:only-of-type {\n",
       "        vertical-align: middle;\n",
       "    }\n",
       "\n",
       "    .dataframe tbody tr th {\n",
       "        vertical-align: top;\n",
       "    }\n",
       "\n",
       "    .dataframe thead th {\n",
       "        text-align: right;\n",
       "    }\n",
       "</style>\n",
       "<table border=\"1\" class=\"dataframe\">\n",
       "  <thead>\n",
       "    <tr style=\"text-align: right;\">\n",
       "      <th></th>\n",
       "      <th>Team_1</th>\n",
       "      <th>Team_2</th>\n",
       "      <th>winning_team</th>\n",
       "    </tr>\n",
       "  </thead>\n",
       "  <tbody>\n",
       "    <tr>\n",
       "      <th>0</th>\n",
       "      <td>England</td>\n",
       "      <td>South Africa</td>\n",
       "      <td>None</td>\n",
       "    </tr>\n",
       "    <tr>\n",
       "      <th>1</th>\n",
       "      <td>Pakistan</td>\n",
       "      <td>West Indies</td>\n",
       "      <td>None</td>\n",
       "    </tr>\n",
       "    <tr>\n",
       "      <th>2</th>\n",
       "      <td>New Zealand</td>\n",
       "      <td>Sri Lanka</td>\n",
       "      <td>None</td>\n",
       "    </tr>\n",
       "    <tr>\n",
       "      <th>3</th>\n",
       "      <td>Australia</td>\n",
       "      <td>Afghanistan</td>\n",
       "      <td>None</td>\n",
       "    </tr>\n",
       "    <tr>\n",
       "      <th>4</th>\n",
       "      <td>South Africa</td>\n",
       "      <td>Bangladesh</td>\n",
       "      <td>None</td>\n",
       "    </tr>\n",
       "  </tbody>\n",
       "</table>\n",
       "</div>"
      ],
      "text/plain": [
       "         Team_1        Team_2 winning_team\n",
       "0       England  South Africa         None\n",
       "1      Pakistan   West Indies         None\n",
       "2   New Zealand     Sri Lanka         None\n",
       "3     Australia   Afghanistan         None\n",
       "4  South Africa    Bangladesh         None"
      ]
     },
     "execution_count": 20,
     "metadata": {},
     "output_type": "execute_result"
    }
   ],
   "source": [
    "# Loop to add teams to new prediction dataset based on the ranking position of each team\n",
    "pred_set = []\n",
    "for index, row in fixtures.iterrows():\n",
    "    if row['first_position'] < row['second_position']:\n",
    "        pred_set.append({'Team_1': row['Team_1'], 'Team_2': row['Team_2'], 'winning_team': None})\n",
    "    else:\n",
    "        pred_set.append({'Team_1': row['Team_2'], 'Team_2': row['Team_1'], 'winning_team': None})\n",
    "        \n",
    "pred_set = pd.DataFrame(pred_set)\n",
    "backup_pred_set = pred_set\n",
    "pred_set.head()"
   ]
  },
  {
   "cell_type": "code",
   "execution_count": 21,
   "id": "71e9423d",
   "metadata": {},
   "outputs": [
    {
     "data": {
      "text/html": [
       "<div>\n",
       "<style scoped>\n",
       "    .dataframe tbody tr th:only-of-type {\n",
       "        vertical-align: middle;\n",
       "    }\n",
       "\n",
       "    .dataframe tbody tr th {\n",
       "        vertical-align: top;\n",
       "    }\n",
       "\n",
       "    .dataframe thead th {\n",
       "        text-align: right;\n",
       "    }\n",
       "</style>\n",
       "<table border=\"1\" class=\"dataframe\">\n",
       "  <thead>\n",
       "    <tr style=\"text-align: right;\">\n",
       "      <th></th>\n",
       "      <th>Team_1_Afghanistan</th>\n",
       "      <th>Team_1_Australia</th>\n",
       "      <th>Team_1_Bangladesh</th>\n",
       "      <th>Team_1_England</th>\n",
       "      <th>Team_1_India</th>\n",
       "      <th>Team_1_New Zealand</th>\n",
       "      <th>Team_1_Pakistan</th>\n",
       "      <th>Team_1_Sri Lanka</th>\n",
       "      <th>Team_1_West Indies</th>\n",
       "      <th>Team_2_Afghanistan</th>\n",
       "      <th>Team_2_Australia</th>\n",
       "      <th>Team_2_Bangladesh</th>\n",
       "      <th>Team_2_England</th>\n",
       "      <th>Team_2_India</th>\n",
       "      <th>Team_2_New Zealand</th>\n",
       "      <th>Team_2_Pakistan</th>\n",
       "      <th>Team_2_Sri Lanka</th>\n",
       "      <th>Team_2_West Indies</th>\n",
       "    </tr>\n",
       "  </thead>\n",
       "  <tbody>\n",
       "    <tr>\n",
       "      <th>0</th>\n",
       "      <td>0</td>\n",
       "      <td>0</td>\n",
       "      <td>0</td>\n",
       "      <td>1</td>\n",
       "      <td>0</td>\n",
       "      <td>0</td>\n",
       "      <td>0</td>\n",
       "      <td>0</td>\n",
       "      <td>0</td>\n",
       "      <td>0</td>\n",
       "      <td>0</td>\n",
       "      <td>0</td>\n",
       "      <td>0</td>\n",
       "      <td>0</td>\n",
       "      <td>0</td>\n",
       "      <td>0</td>\n",
       "      <td>0</td>\n",
       "      <td>0</td>\n",
       "    </tr>\n",
       "    <tr>\n",
       "      <th>1</th>\n",
       "      <td>0</td>\n",
       "      <td>0</td>\n",
       "      <td>0</td>\n",
       "      <td>0</td>\n",
       "      <td>0</td>\n",
       "      <td>0</td>\n",
       "      <td>1</td>\n",
       "      <td>0</td>\n",
       "      <td>0</td>\n",
       "      <td>0</td>\n",
       "      <td>0</td>\n",
       "      <td>0</td>\n",
       "      <td>0</td>\n",
       "      <td>0</td>\n",
       "      <td>0</td>\n",
       "      <td>0</td>\n",
       "      <td>0</td>\n",
       "      <td>1</td>\n",
       "    </tr>\n",
       "    <tr>\n",
       "      <th>2</th>\n",
       "      <td>0</td>\n",
       "      <td>0</td>\n",
       "      <td>0</td>\n",
       "      <td>0</td>\n",
       "      <td>0</td>\n",
       "      <td>1</td>\n",
       "      <td>0</td>\n",
       "      <td>0</td>\n",
       "      <td>0</td>\n",
       "      <td>0</td>\n",
       "      <td>0</td>\n",
       "      <td>0</td>\n",
       "      <td>0</td>\n",
       "      <td>0</td>\n",
       "      <td>0</td>\n",
       "      <td>0</td>\n",
       "      <td>1</td>\n",
       "      <td>0</td>\n",
       "    </tr>\n",
       "    <tr>\n",
       "      <th>3</th>\n",
       "      <td>0</td>\n",
       "      <td>1</td>\n",
       "      <td>0</td>\n",
       "      <td>0</td>\n",
       "      <td>0</td>\n",
       "      <td>0</td>\n",
       "      <td>0</td>\n",
       "      <td>0</td>\n",
       "      <td>0</td>\n",
       "      <td>1</td>\n",
       "      <td>0</td>\n",
       "      <td>0</td>\n",
       "      <td>0</td>\n",
       "      <td>0</td>\n",
       "      <td>0</td>\n",
       "      <td>0</td>\n",
       "      <td>0</td>\n",
       "      <td>0</td>\n",
       "    </tr>\n",
       "    <tr>\n",
       "      <th>4</th>\n",
       "      <td>0</td>\n",
       "      <td>0</td>\n",
       "      <td>0</td>\n",
       "      <td>0</td>\n",
       "      <td>0</td>\n",
       "      <td>0</td>\n",
       "      <td>0</td>\n",
       "      <td>0</td>\n",
       "      <td>0</td>\n",
       "      <td>0</td>\n",
       "      <td>0</td>\n",
       "      <td>1</td>\n",
       "      <td>0</td>\n",
       "      <td>0</td>\n",
       "      <td>0</td>\n",
       "      <td>0</td>\n",
       "      <td>0</td>\n",
       "      <td>0</td>\n",
       "    </tr>\n",
       "  </tbody>\n",
       "</table>\n",
       "</div>"
      ],
      "text/plain": [
       "   Team_1_Afghanistan  Team_1_Australia  Team_1_Bangladesh  Team_1_England  \\\n",
       "0                   0                 0                  0               1   \n",
       "1                   0                 0                  0               0   \n",
       "2                   0                 0                  0               0   \n",
       "3                   0                 1                  0               0   \n",
       "4                   0                 0                  0               0   \n",
       "\n",
       "   Team_1_India  Team_1_New Zealand  Team_1_Pakistan  Team_1_Sri Lanka  \\\n",
       "0             0                   0                0                 0   \n",
       "1             0                   0                1                 0   \n",
       "2             0                   1                0                 0   \n",
       "3             0                   0                0                 0   \n",
       "4             0                   0                0                 0   \n",
       "\n",
       "   Team_1_West Indies  Team_2_Afghanistan  Team_2_Australia  \\\n",
       "0                   0                   0                 0   \n",
       "1                   0                   0                 0   \n",
       "2                   0                   0                 0   \n",
       "3                   0                   1                 0   \n",
       "4                   0                   0                 0   \n",
       "\n",
       "   Team_2_Bangladesh  Team_2_England  Team_2_India  Team_2_New Zealand  \\\n",
       "0                  0               0             0                   0   \n",
       "1                  0               0             0                   0   \n",
       "2                  0               0             0                   0   \n",
       "3                  0               0             0                   0   \n",
       "4                  1               0             0                   0   \n",
       "\n",
       "   Team_2_Pakistan  Team_2_Sri Lanka  Team_2_West Indies  \n",
       "0                0                 0                   0  \n",
       "1                0                 0                   1  \n",
       "2                0                 1                   0  \n",
       "3                0                 0                   0  \n",
       "4                0                 0                   0  "
      ]
     },
     "execution_count": 21,
     "metadata": {},
     "output_type": "execute_result"
    }
   ],
   "source": [
    "# Get dummy variables and drop winning_team column\n",
    "pred_set = pd.get_dummies(pred_set, prefix=['Team_1', 'Team_2'], columns=['Team_1', 'Team_2'])\n",
    "\n",
    "# Add missing columns compared to the model's training dataset\n",
    "missing_cols = set(final.columns) - set(pred_set.columns)\n",
    "for c in missing_cols:\n",
    "    pred_set[c] = 0\n",
    "pred_set = pred_set[final.columns]\n",
    "\n",
    "\n",
    "pred_set = pred_set.drop(['Winner'], axis=1)\n",
    "pred_set.head()"
   ]
  },
  {
   "cell_type": "code",
   "execution_count": 22,
   "id": "75371474",
   "metadata": {},
   "outputs": [],
   "source": [
    "#group matches \n",
    "def group_stage_predictions(pred_set):\n",
    "    \n",
    "    predictions = rf.predict(pred_set)\n",
    "    my_groupstage_predictions = pd.DataFrame(columns=['Team_1','Team_2','Predicted_winner'])\n",
    "    team_1_list = []\n",
    "    team_2_list = []\n",
    "    winner_list = []\n",
    "    for i in range(fixtures.shape[0]):\n",
    "        #print(backup_pred_set.iloc[i, 1] + \" and \" + backup_pred_set.iloc[i, 0])\n",
    "        if predictions[i] == 1:\n",
    "            temp =     backup_pred_set.iloc[i, 1]\n",
    "            #print(\"Winner: \" + backup_pred_set.iloc[i, 1])\n",
    "    \n",
    "        else:\n",
    "            temp =     backup_pred_set.iloc[i, 0]\n",
    "            #print(\"Winner: \" + backup_pred_set.iloc[i, 0])\n",
    "        team_1_list.append(backup_pred_set.iloc[i, 1])\n",
    "        team_2_list.append(backup_pred_set.iloc[i, 0])\n",
    "        winner_list.append(temp)\n",
    "\n",
    "    my_groupstage_predictions['Team_1'] = team_1_list\n",
    "    my_groupstage_predictions['Team_2'] = team_2_list\n",
    "    my_groupstage_predictions['Predicted_winner'] = winner_list\n",
    "    \n",
    "    return my_groupstage_predictions"
   ]
  },
  {
   "cell_type": "code",
   "execution_count": 23,
   "id": "367cf512",
   "metadata": {},
   "outputs": [],
   "source": [
    "group_Stage_output = group_stage_predictions(pred_set)"
   ]
  },
  {
   "cell_type": "code",
   "execution_count": 24,
   "id": "dd8cdd01",
   "metadata": {
    "scrolled": true
   },
   "outputs": [
    {
     "data": {
      "text/plain": [
       "England         9\n",
       "India           8\n",
       "South Africa    7\n",
       "New Zealand     6\n",
       "Australia       5\n",
       "Pakistan        4\n",
       "Bangladesh      3\n",
       "West Indies     2\n",
       "Sri Lanka       1\n",
       "Name: Predicted_winner, dtype: int64"
      ]
     },
     "execution_count": 24,
     "metadata": {},
     "output_type": "execute_result"
    }
   ],
   "source": [
    "group_Stage_output['Predicted_winner'].value_counts()"
   ]
  },
  {
   "cell_type": "code",
   "execution_count": 25,
   "id": "cd46cab7",
   "metadata": {},
   "outputs": [],
   "source": [
    "semifinalist = [('England','South Africa'),\n",
    "                ('India','New Zealand')]"
   ]
  },
  {
   "cell_type": "code",
   "execution_count": 26,
   "id": "43aee3e8",
   "metadata": {},
   "outputs": [],
   "source": [
    "def predict_finalist(matches, ranking, final, rf):\n",
    "\n",
    "    # Initialization of auxiliary list for data cleaning\n",
    "    positions = []\n",
    "\n",
    "    # Loop to retrieve each team's position according to ICC ranking\n",
    "    for match in matches:\n",
    "        positions.append(ranking.loc[ranking['Team'] == match[0],'Position'].iloc[0])\n",
    "        positions.append(ranking.loc[ranking['Team'] == match[1],'Position'].iloc[0])\n",
    "        \n",
    "    #print (positions)\n",
    "    \n",
    "    # Creating the DataFrame for prediction\n",
    "    pred_set = []\n",
    "\n",
    "    # Initializing iterators for while loop\n",
    "    i = 0\n",
    "    j = 0\n",
    "\n",
    "    # 'i' will be the iterator for the 'positions' list, and 'j' for the list of matches (list of tuples)\n",
    "    while i < len(positions):\n",
    "        dict1 = {}\n",
    "\n",
    "        # If position of first team is better then this team will be the 'Team_1' team, and vice-versa\n",
    "        if positions[i] < positions[i + 1]:\n",
    "            dict1.update({'Team_1': matches[j][0], 'Team_2': matches[j][1]})\n",
    "        else:\n",
    "            dict1.update({'Team_1': matches[j][1], 'Team_2': matches[j][0]})\n",
    "\n",
    "        # Append updated dictionary to the list, that will later be converted into a DataFrame\n",
    "        pred_set.append(dict1)\n",
    "        i += 2\n",
    "        j += 1\n",
    "        \n",
    "        # Convert list into DataFrame\n",
    "    pred_set = pd.DataFrame(pred_set)\n",
    "    backup_pred_set = pred_set\n",
    "\n",
    "    # Get dummy variables and drop winning_team column\n",
    "    pred_set = pd.get_dummies(pred_set, prefix=['Team_1', 'Team_2'], columns=['Team_1', 'Team_2'])\n",
    "\n",
    "    # Add missing columns compared to the model's training dataset\n",
    "    missing_cols2 = set(final.columns) - set(pred_set.columns)\n",
    "    for c in missing_cols2:\n",
    "        pred_set[c] = 0\n",
    "    pred_set = pred_set[final.columns]\n",
    "\n",
    "    pred_set = pred_set.drop(['Winner'], axis=1)\n",
    "\n",
    "    # Predict!\n",
    "    predictions = rf.predict(pred_set)\n",
    "    for i in range(len(pred_set)):\n",
    "        print(backup_pred_set.iloc[i, 1] + \" and \" + backup_pred_set.iloc[i, 0])\n",
    "        if predictions[i] == 1:\n",
    "            print(\"Winner: \" + backup_pred_set.iloc[i, 1])\n",
    "        else:\n",
    "            print(\"Winner: \" + backup_pred_set.iloc[i, 0])\n",
    "        print(\"\")\n"
   ]
  },
  {
   "cell_type": "code",
   "execution_count": 27,
   "id": "dfd49d3c",
   "metadata": {
    "scrolled": true
   },
   "outputs": [
    {
     "name": "stdout",
     "output_type": "stream",
     "text": [
      "South Africa and England\n",
      "Winner: England\n",
      "\n",
      "New Zealand and India\n",
      "Winner: India\n",
      "\n"
     ]
    }
   ],
   "source": [
    "predict_finalist(semifinalist, ranking, final, rf)"
   ]
  },
  {
   "cell_type": "code",
   "execution_count": 28,
   "id": "8e66aeee",
   "metadata": {},
   "outputs": [],
   "source": [
    "finalist = [('England','India')]"
   ]
  },
  {
   "cell_type": "code",
   "execution_count": 29,
   "id": "5c8210c2",
   "metadata": {
    "scrolled": true
   },
   "outputs": [
    {
     "name": "stdout",
     "output_type": "stream",
     "text": [
      "India and England\n",
      "Winner: England\n",
      "\n"
     ]
    }
   ],
   "source": [
    "predict_finalist(finalist, ranking, final, rf)"
   ]
  },
  {
   "cell_type": "code",
   "execution_count": 40,
   "id": "b13dac89",
   "metadata": {},
   "outputs": [],
   "source": [
    "from sklearn.metrics import confusion_matrix,accuracy_score,recall_score,roc_auc_score,classification_report,roc_auc_score,roc_curve,auc\n",
    "\n",
    "#Model function\n",
    "def model(algorithm,dtrain_X,dtrain_Y,dtest_X,dtest_Y,cols=None):\n",
    "\n",
    "    algorithm.fit(dtrain_X[cols],dtrain_Y)\n",
    "    predictions = algorithm.predict(dtest_X[cols])\n",
    "    print (algorithm)\n",
    "    \n",
    "    print (\"Accuracy score : \", accuracy_score(predictions,dtest_Y))\n",
    "    #print (\"Recall score   : \", recall_score(predictions,dtest_Y,average='micro'))\n",
    "    #print (\"classification report :\\n\",classification_report(predictions,dtest_Y))\n",
    "    \n",
    "    #fig = plt.figure(figsize=(10,8))\n",
    "    #ax  = fig.add_subplot(111)\n",
    "    prediction_probabilities = algorithm.predict_proba(dtest_X[cols])[:,1]\n",
    "    #fpr , tpr , thresholds   = roc_curve(dtest_Y,prediction_probabilities)\n",
    "    #ax.plot(fpr,tpr,label   = [\"Area under curve : \",auc(fpr,tpr)],linewidth=2,linestyle=\"dotted\")\n",
    "    #ax.plot([0,1],[0,1],linewidth=2,linestyle=\"dashed\")\n",
    "    #plt.legend(loc=\"best\")\n",
    "    #plt.title(\"ROC-CURVE & AREA UNDER CURVE\")\n",
    "    #ax.set_facecolor(\"k\")\n",
    "    return predictions,prediction_probabilities,algorithm"
   ]
  },
  {
   "cell_type": "code",
   "execution_count": 41,
   "id": "b428ea86",
   "metadata": {},
   "outputs": [
    {
     "name": "stdout",
     "output_type": "stream",
     "text": [
      "RandomForestClassifier(bootstrap=True, class_weight=None, criterion='gini',\n",
      "                       max_depth=None, max_features='auto', max_leaf_nodes=None,\n",
      "                       min_impurity_decrease=0.0, min_impurity_split=None,\n",
      "                       min_samples_leaf=1, min_samples_split=2,\n",
      "                       min_weight_fraction_leaf=0.0, n_estimators=10,\n",
      "                       n_jobs=None, oob_score=False, random_state=None,\n",
      "                       verbose=0, warm_start=False)\n",
      "Accuracy score :  0.6144578313253012\n"
     ]
    }
   ],
   "source": [
    "RandomForest = RandomForestClassifier()\n",
    "y_pred,y_prob,model_obj = model(RandomForest,X_train, y_train, X_test, y_test,X_train.columns)"
   ]
  },
  {
   "cell_type": "code",
   "execution_count": 42,
   "id": "9d4f9213",
   "metadata": {},
   "outputs": [],
   "source": [
    "from mosaicml import *\n",
    "from mosaicml.constants import MLModelFlavours"
   ]
  },
  {
   "cell_type": "code",
   "execution_count": 43,
   "id": "6bc34ee6",
   "metadata": {
    "scrolled": true
   },
   "outputs": [
    {
     "name": "stdout",
     "output_type": "stream",
     "text": [
      "{'input': {'type': 'pd.core.frame.DataFrame', 'items': {'type': 'object', 'properties': {'Team_1_Afghanistan': {'type': 'integer', 'format': 'uint8'}, 'Team_1_Australia': {'type': 'integer', 'format': 'uint8'}, 'Team_1_Bangladesh': {'type': 'integer', 'format': 'uint8'}, 'Team_1_England': {'type': 'integer', 'format': 'uint8'}, 'Team_1_India': {'type': 'integer', 'format': 'uint8'}, 'Team_1_New Zealand': {'type': 'integer', 'format': 'uint8'}, 'Team_1_Pakistan': {'type': 'integer', 'format': 'uint8'}, 'Team_1_Sri Lanka': {'type': 'integer', 'format': 'uint8'}, 'Team_1_West Indies': {'type': 'integer', 'format': 'uint8'}, 'Team_2_Afghanistan': {'type': 'integer', 'format': 'uint8'}, 'Team_2_Australia': {'type': 'integer', 'format': 'uint8'}, 'Team_2_Bangladesh': {'type': 'integer', 'format': 'uint8'}, 'Team_2_England': {'type': 'integer', 'format': 'uint8'}, 'Team_2_India': {'type': 'integer', 'format': 'uint8'}, 'Team_2_New Zealand': {'type': 'integer', 'format': 'uint8'}, 'Team_2_Pakistan': {'type': 'integer', 'format': 'uint8'}, 'Team_2_Sri Lanka': {'type': 'integer', 'format': 'uint8'}, 'Team_2_West Indies': {'type': 'integer', 'format': 'uint8'}}}, 'example': [{'Team_1_Afghanistan': 0, 'Team_1_Australia': 1, 'Team_1_Bangladesh': 0, 'Team_1_England': 0, 'Team_1_India': 0, 'Team_1_New Zealand': 0, 'Team_1_Pakistan': 0, 'Team_1_Sri Lanka': 0, 'Team_1_West Indies': 0, 'Team_2_Afghanistan': 0, 'Team_2_Australia': 0, 'Team_2_Bangladesh': 0, 'Team_2_England': 1, 'Team_2_India': 0, 'Team_2_New Zealand': 0, 'Team_2_Pakistan': 0, 'Team_2_Sri Lanka': 0, 'Team_2_West Indies': 0}, {'Team_1_Afghanistan': 0, 'Team_1_Australia': 0, 'Team_1_Bangladesh': 0, 'Team_1_England': 0, 'Team_1_India': 0, 'Team_1_New Zealand': 0, 'Team_1_Pakistan': 1, 'Team_1_Sri Lanka': 0, 'Team_1_West Indies': 0, 'Team_2_Afghanistan': 0, 'Team_2_Australia': 0, 'Team_2_Bangladesh': 0, 'Team_2_England': 0, 'Team_2_India': 0, 'Team_2_New Zealand': 0, 'Team_2_Pakistan': 0, 'Team_2_Sri Lanka': 1, 'Team_2_West Indies': 0}]}, 'output': {'type': 'array', 'items': {'type': 'object'}, 'example': ['Australia']}}\n"
     ]
    }
   ],
   "source": [
    "@scoring_func\n",
    "def score(model, request):\n",
    "    payload = request.json[\"payload\"]\n",
    "    data = pd.DataFrame(eval(payload))\n",
    "    prediction = pd.Series(model.predict(data))\n",
    "    return prediction.tolist()\n",
    "\n",
    "import requests\n",
    "req = requests.Request()\n",
    "req.json = {\"payload\":X_train.head(1).to_json()}\n",
    "\n",
    "sch = generate_schema(score,(model_obj, req),X_train)\n",
    "print(sch)"
   ]
  },
  {
   "cell_type": "code",
   "execution_count": 47,
   "id": "e5b0065b",
   "metadata": {},
   "outputs": [
    {
     "data": {
      "text/html": [
       "<pre style=\"white-space:pre;overflow-x:auto;line-height:normal;font-family:Menlo,'DejaVu Sans Mono',consolas,'Courier New',monospace\">                              VALIDATION  PASSED\n",
       "<span style=\"color: #008080; text-decoration-color: #008080; font-weight: bold\">0</span>                  Supported Data Format    <span style=\"color: #00ff00; text-decoration-color: #00ff00; font-style: italic\">True</span>\n",
       "<span style=\"color: #008080; text-decoration-color: #008080; font-weight: bold\">1</span>  Number of Records Mismatch Validation    <span style=\"color: #00ff00; text-decoration-color: #00ff00; font-style: italic\">True</span>\n",
       "</pre>\n"
      ],
      "text/plain": [
       "                              VALIDATION  PASSED\n",
       "\u001b[1;36m0\u001b[0m                  Supported Data Format    \u001b[3;92mTrue\u001b[0m\n",
       "\u001b[1;36m1\u001b[0m  Number of Records Mismatch Validation    \u001b[3;92mTrue\u001b[0m\n"
      ]
     },
     "metadata": {},
     "output_type": "display_data"
    },
    {
     "data": {
      "text/html": [
       "<pre style=\"white-space:pre;overflow-x:auto;line-height:normal;font-family:Menlo,'DejaVu Sans Mono',consolas,'Courier New',monospace\">Validation                                                                        <span style=\"color: #800080; text-decoration-color: #800080; font-weight: bold\">COMPLETED </span><span style=\"color: #008000; text-decoration-color: #008000; font-weight: bold\">✔</span>\n",
       "</pre>\n"
      ],
      "text/plain": [
       "Validation                                                                        \u001b[1;35mCOMPLETED \u001b[0m\u001b[1;32m✔\u001b[0m\n"
      ]
     },
     "metadata": {},
     "output_type": "display_data"
    },
    {
     "data": {
      "text/html": [
       "<pre style=\"white-space:pre;overflow-x:auto;line-height:normal;font-family:Menlo,'DejaVu Sans Mono',consolas,'Courier New',monospace\">Validation                                                                        <span style=\"color: #800080; text-decoration-color: #800080; font-weight: bold\">COMPLETED </span><span style=\"color: #008000; text-decoration-color: #008000; font-weight: bold\">✔</span>\n",
       "Data Initialised                                                                  <span style=\"color: #800080; text-decoration-color: #800080; font-weight: bold\">COMPLETED </span><span style=\"color: #008000; text-decoration-color: #008000; font-weight: bold\">✔</span>\n",
       "</pre>\n"
      ],
      "text/plain": [
       "Validation                                                                        \u001b[1;35mCOMPLETED \u001b[0m\u001b[1;32m✔\u001b[0m\n",
       "Data Initialised                                                                  \u001b[1;35mCOMPLETED \u001b[0m\u001b[1;32m✔\u001b[0m\n"
      ]
     },
     "metadata": {},
     "output_type": "display_data"
    },
    {
     "name": "stdout",
     "output_type": "stream",
     "text": [
      "Inference Data Types\n",
      "╒════╤═══════════╤═════════════════════╤════════╤════════════╤════════════════════════╤═══════════════════╕\n",
      "│    │ numeric   │ category            │ text   │ datetime   │ excluded               │ type_undetected   │\n",
      "╞════╪═══════════╪═════════════════════╪════════╪════════════╪════════════════════════╪═══════════════════╡\n",
      "│  0 │ -         │ Team_1_India*       │ -      │ -          │ actual_truth_values    │ -                 │\n",
      "├────┼───────────┼─────────────────────┼────────┼────────────┼────────────────────────┼───────────────────┤\n",
      "│  1 │ -         │ Team_2_New Zealand* │ -      │ -          │ predicted_truth_values │ -                 │\n",
      "├────┼───────────┼─────────────────────┼────────┼────────────┼────────────────────────┼───────────────────┤\n",
      "│  2 │ -         │ Team_1_Bangladesh*  │ -      │ -          │ -                      │ -                 │\n",
      "├────┼───────────┼─────────────────────┼────────┼────────────┼────────────────────────┼───────────────────┤\n",
      "│  3 │ -         │ Team_1_Australia*   │ -      │ -          │ -                      │ -                 │\n",
      "├────┼───────────┼─────────────────────┼────────┼────────────┼────────────────────────┼───────────────────┤\n",
      "│  4 │ -         │ Team_1_New Zealand* │ -      │ -          │ -                      │ -                 │\n",
      "├────┼───────────┼─────────────────────┼────────┼────────────┼────────────────────────┼───────────────────┤\n",
      "│  5 │ -         │ Team_2_Bangladesh*  │ -      │ -          │ -                      │ -                 │\n",
      "├────┼───────────┼─────────────────────┼────────┼────────────┼────────────────────────┼───────────────────┤\n",
      "│  6 │ -         │ Team_2_Afghanistan* │ -      │ -          │ -                      │ -                 │\n",
      "├────┼───────────┼─────────────────────┼────────┼────────────┼────────────────────────┼───────────────────┤\n",
      "│  7 │ -         │ Team_2_Australia*   │ -      │ -          │ -                      │ -                 │\n",
      "├────┼───────────┼─────────────────────┼────────┼────────────┼────────────────────────┼───────────────────┤\n",
      "│  8 │ -         │ Team_2_Pakistan*    │ -      │ -          │ -                      │ -                 │\n",
      "├────┼───────────┼─────────────────────┼────────┼────────────┼────────────────────────┼───────────────────┤\n",
      "│  9 │ -         │ Team_2_West Indies* │ -      │ -          │ -                      │ -                 │\n",
      "├────┼───────────┼─────────────────────┼────────┼────────────┼────────────────────────┼───────────────────┤\n",
      "│ 10 │ -         │ Team_1_Sri Lanka*   │ -      │ -          │ -                      │ -                 │\n",
      "├────┼───────────┼─────────────────────┼────────┼────────────┼────────────────────────┼───────────────────┤\n",
      "│ 11 │ -         │ Team_2_Sri Lanka*   │ -      │ -          │ -                      │ -                 │\n",
      "├────┼───────────┼─────────────────────┼────────┼────────────┼────────────────────────┼───────────────────┤\n",
      "│ 12 │ -         │ Team_2_England*     │ -      │ -          │ -                      │ -                 │\n",
      "├────┼───────────┼─────────────────────┼────────┼────────────┼────────────────────────┼───────────────────┤\n",
      "│ 13 │ -         │ Team_2_India*       │ -      │ -          │ -                      │ -                 │\n",
      "├────┼───────────┼─────────────────────┼────────┼────────────┼────────────────────────┼───────────────────┤\n",
      "│ 14 │ -         │ Team_1_Afghanistan* │ -      │ -          │ -                      │ -                 │\n",
      "├────┼───────────┼─────────────────────┼────────┼────────────┼────────────────────────┼───────────────────┤\n",
      "│ 15 │ -         │ Team_1_England*     │ -      │ -          │ -                      │ -                 │\n",
      "├────┼───────────┼─────────────────────┼────────┼────────────┼────────────────────────┼───────────────────┤\n",
      "│ 16 │ -         │ Team_1_West Indies* │ -      │ -          │ -                      │ -                 │\n",
      "├────┼───────────┼─────────────────────┼────────┼────────────┼────────────────────────┼───────────────────┤\n",
      "│ 17 │ -         │ Team_1_Pakistan*    │ -      │ -          │ -                      │ -                 │\n",
      "╘════╧═══════════╧═════════════════════╧════════╧════════════╧════════════════════════╧═══════════════════╛\n"
     ]
    },
    {
     "data": {
      "text/html": [
       "<pre style=\"white-space:pre;overflow-x:auto;line-height:normal;font-family:Menlo,'DejaVu Sans Mono',consolas,'Courier New',monospace\">╭───────────────────────────────────────────────────────────────────────────────────────────╮\n",
       "│ Asterisk(*) indicated features are categoric, but with very less numerical(I/F) uniques.  │\n",
       "╰───────────────────────────────────────────────────────────────────────────────────────────╯\n",
       "</pre>\n"
      ],
      "text/plain": [
       "╭───────────────────────────────────────────────────────────────────────────────────────────╮\n",
       "│ Asterisk(*) indicated features are categoric, but with very less numerical(I/F) uniques.  │\n",
       "╰───────────────────────────────────────────────────────────────────────────────────────────╯\n"
      ]
     },
     "metadata": {},
     "output_type": "display_data"
    },
    {
     "data": {
      "text/html": [
       "<pre style=\"white-space:pre;overflow-x:auto;line-height:normal;font-family:Menlo,'DejaVu Sans Mono',consolas,'Courier New',monospace\">Validation                                                                        <span style=\"color: #800080; text-decoration-color: #800080; font-weight: bold\">COMPLETED </span><span style=\"color: #008000; text-decoration-color: #008000; font-weight: bold\">✔</span>\n",
       "Data Initialised                                                                  <span style=\"color: #800080; text-decoration-color: #800080; font-weight: bold\">COMPLETED </span><span style=\"color: #008000; text-decoration-color: #008000; font-weight: bold\">✔</span>\n",
       "Data Type Inferencing                                                             <span style=\"color: #800080; text-decoration-color: #800080; font-weight: bold\">COMPLETED </span><span style=\"color: #008000; text-decoration-color: #008000; font-weight: bold\">✔</span>\n",
       "</pre>\n"
      ],
      "text/plain": [
       "Validation                                                                        \u001b[1;35mCOMPLETED \u001b[0m\u001b[1;32m✔\u001b[0m\n",
       "Data Initialised                                                                  \u001b[1;35mCOMPLETED \u001b[0m\u001b[1;32m✔\u001b[0m\n",
       "Data Type Inferencing                                                             \u001b[1;35mCOMPLETED \u001b[0m\u001b[1;32m✔\u001b[0m\n"
      ]
     },
     "metadata": {},
     "output_type": "display_data"
    },
    {
     "name": "stdout",
     "output_type": "stream",
     "text": [
      "Validating...\n",
      "Context: Extracting Information Using Strategy C/CategoricalStrategy/ValuesCount\n"
     ]
    },
    {
     "data": {
      "application/vnd.jupyter.widget-view+json": {
       "model_id": "463329e819774361b9c4818279735612",
       "version_major": 2,
       "version_minor": 0
      },
      "text/plain": [
       "  0%|          | 0/4 [00:00<?, ?it/s]"
      ]
     },
     "metadata": {},
     "output_type": "display_data"
    },
    {
     "data": {
      "application/vnd.jupyter.widget-view+json": {
       "model_id": "3d26a162607d4c31a86f670d30a278d4",
       "version_major": 2,
       "version_minor": 0
      },
      "text/plain": [
       "  0%|          | 0/18 [00:00<?, ?it/s]"
      ]
     },
     "metadata": {},
     "output_type": "display_data"
    },
    {
     "data": {
      "application/vnd.jupyter.widget-view+json": {
       "model_id": "f129ec6994c54987a4ca64f818a27c06",
       "version_major": 2,
       "version_minor": 0
      },
      "text/plain": [
       "  0%|          | 0/18 [00:00<?, ?it/s]"
      ]
     },
     "metadata": {},
     "output_type": "display_data"
    },
    {
     "data": {
      "text/html": [
       "<pre style=\"white-space:pre;overflow-x:auto;line-height:normal;font-family:Menlo,'DejaVu Sans Mono',consolas,'Courier New',monospace\">Validation                                                                        <span style=\"color: #800080; text-decoration-color: #800080; font-weight: bold\">COMPLETED </span><span style=\"color: #008000; text-decoration-color: #008000; font-weight: bold\">✔</span>\n",
       "Data Initialised                                                                  <span style=\"color: #800080; text-decoration-color: #800080; font-weight: bold\">COMPLETED </span><span style=\"color: #008000; text-decoration-color: #008000; font-weight: bold\">✔</span>\n",
       "Data Type Inferencing                                                             <span style=\"color: #800080; text-decoration-color: #800080; font-weight: bold\">COMPLETED </span><span style=\"color: #008000; text-decoration-color: #008000; font-weight: bold\">✔</span>\n",
       "Data Drift Profile Insights                                                       <span style=\"color: #800080; text-decoration-color: #800080; font-weight: bold\">COMPLETED </span><span style=\"color: #008000; text-decoration-color: #008000; font-weight: bold\">✔</span>\n",
       "</pre>\n"
      ],
      "text/plain": [
       "Validation                                                                        \u001b[1;35mCOMPLETED \u001b[0m\u001b[1;32m✔\u001b[0m\n",
       "Data Initialised                                                                  \u001b[1;35mCOMPLETED \u001b[0m\u001b[1;32m✔\u001b[0m\n",
       "Data Type Inferencing                                                             \u001b[1;35mCOMPLETED \u001b[0m\u001b[1;32m✔\u001b[0m\n",
       "Data Drift Profile Insights                                                       \u001b[1;35mCOMPLETED \u001b[0m\u001b[1;32m✔\u001b[0m\n"
      ]
     },
     "metadata": {},
     "output_type": "display_data"
    },
    {
     "data": {
      "text/html": [
       "<pre style=\"white-space:pre;overflow-x:auto;line-height:normal;font-family:Menlo,'DejaVu Sans Mono',consolas,'Courier New',monospace\">*********************************************************************************************\n",
       "***************************\n",
       "</pre>\n"
      ],
      "text/plain": [
       "*********************************************************************************************\n",
       "***************************\n"
      ]
     },
     "metadata": {},
     "output_type": "display_data"
    },
    {
     "data": {
      "text/html": [
       "<pre style=\"white-space:pre;overflow-x:auto;line-height:normal;font-family:Menlo,'DejaVu Sans Mono',consolas,'Courier New',monospace\">Drift Score ::: Using Test Data For Computation\n",
       "</pre>\n"
      ],
      "text/plain": [
       "Drift Score ::: Using Test Data For Computation\n"
      ]
     },
     "metadata": {},
     "output_type": "display_data"
    },
    {
     "data": {
      "text/html": [
       "<pre style=\"white-space:pre;overflow-x:auto;line-height:normal;font-family:Menlo,'DejaVu Sans Mono',consolas,'Courier New',monospace\">*********************************************************************************************\n",
       "***************************\n",
       "</pre>\n"
      ],
      "text/plain": [
       "*********************************************************************************************\n",
       "***************************\n"
      ]
     },
     "metadata": {},
     "output_type": "display_data"
    },
    {
     "name": "stderr",
     "output_type": "stream",
     "text": [
      "WARNING:alibi_detect.cd.ks:No p-value set for the drift threshold. Need to set it to detect data drift.\n"
     ]
    },
    {
     "ename": "TypeError",
     "evalue": "'<' not supported between instances of 'float' and 'NoneType'",
     "output_type": "error",
     "traceback": [
      "\u001b[0;31m---------------------------------------------------------------------------\u001b[0m",
      "\u001b[0;31mTypeError\u001b[0m                                 Traceback (most recent call last)",
      "\u001b[0;32m<ipython-input-47-24864f804169>\u001b[0m in \u001b[0;36m<module>\u001b[0;34m\u001b[0m\n\u001b[1;32m      8\u001b[0m                 \u001b[0my_train\u001b[0m\u001b[0;34m=\u001b[0m\u001b[0my_train\u001b[0m\u001b[0;34m.\u001b[0m\u001b[0mtolist\u001b[0m\u001b[0;34m(\u001b[0m\u001b[0;34m)\u001b[0m\u001b[0;34m,\u001b[0m \u001b[0my_test\u001b[0m\u001b[0;34m=\u001b[0m\u001b[0my_test\u001b[0m\u001b[0;34m.\u001b[0m\u001b[0mtolist\u001b[0m\u001b[0;34m(\u001b[0m\u001b[0;34m)\u001b[0m\u001b[0;34m,\u001b[0m\u001b[0mfeature_names\u001b[0m\u001b[0;34m=\u001b[0m\u001b[0mX_train\u001b[0m\u001b[0;34m.\u001b[0m\u001b[0mcolumns\u001b[0m\u001b[0;34m,\u001b[0m\u001b[0;34m\u001b[0m\u001b[0;34m\u001b[0m\u001b[0m\n\u001b[1;32m      9\u001b[0m                 \u001b[0mfeature_ids\u001b[0m\u001b[0;34m=\u001b[0m\u001b[0mX_train\u001b[0m\u001b[0;34m.\u001b[0m\u001b[0mcolumns\u001b[0m\u001b[0;34m,\u001b[0m\u001b[0;34m\u001b[0m\u001b[0;34m\u001b[0m\u001b[0m\n\u001b[0;32m---> 10\u001b[0;31m                 target_names=['Winner'], kyd=True, kyd_score = True)\n\u001b[0m\u001b[1;32m     11\u001b[0m \u001b[0mprint\u001b[0m\u001b[0;34m(\u001b[0m\u001b[0;34m\"Registering model\"\u001b[0m\u001b[0;34m)\u001b[0m\u001b[0;34m\u001b[0m\u001b[0;34m\u001b[0m\u001b[0m\n",
      "\u001b[0;32m/opt/conda/lib/python3.7/site-packages/mosaicml/api.py\u001b[0m in \u001b[0;36mregister_model\u001b[0;34m(model_obj, scoring_func, name, description, flavour, tags, init_script, schema, y_true, y_pred, prob, features, labels, model_type, datasource_name, metadata_info, input_type, target_names, target_names_mapping, x_train, y_train, feature_names, feature_ids, explain_ai, x_test, y_test, kyd, kyd_score, pretty_output, **kwargs)\u001b[0m\n\u001b[1;32m    223\u001b[0m                     \u001b[0mscore\u001b[0m\u001b[0;34m=\u001b[0m\u001b[0mkyd_score\u001b[0m\u001b[0;34m,\u001b[0m\u001b[0;34m\u001b[0m\u001b[0;34m\u001b[0m\u001b[0m\n\u001b[1;32m    224\u001b[0m                     pass_to_score={\n\u001b[0;32m--> 225\u001b[0;31m                         \u001b[0;34m\"feature_names\"\u001b[0m\u001b[0;34m:\u001b[0m \u001b[0mfeature_names\u001b[0m\u001b[0;34m\u001b[0m\u001b[0;34m\u001b[0m\u001b[0m\n\u001b[0m\u001b[1;32m    226\u001b[0m                     }\n\u001b[1;32m    227\u001b[0m                 )\n",
      "\u001b[0;32m/opt/conda/lib/python3.7/site-packages/kyd/executor.py\u001b[0m in \u001b[0;36mrun\u001b[0;34m(self, use_explicit, use_explicit_score, score, stats, prediction_overtime, manually_inference, publish, skip_problem, ml_model_id, ml_version_id, headers, run_at, drift_type, pass_to_score, use_test, *args, **kwargs)\u001b[0m\n\u001b[1;32m    338\u001b[0m                            \u001b[0mml_version_id\u001b[0m\u001b[0;34m=\u001b[0m\u001b[0mml_version_id\u001b[0m\u001b[0;34m,\u001b[0m\u001b[0;34m\u001b[0m\u001b[0;34m\u001b[0m\u001b[0m\n\u001b[1;32m    339\u001b[0m                            \u001b[0mrun_at\u001b[0m\u001b[0;34m=\u001b[0m\u001b[0mrun_at\u001b[0m\u001b[0;34m,\u001b[0m\u001b[0;34m\u001b[0m\u001b[0;34m\u001b[0m\u001b[0m\n\u001b[0;32m--> 340\u001b[0;31m                            \u001b[0mpass_to_score\u001b[0m\u001b[0;34m=\u001b[0m\u001b[0mpass_to_score\u001b[0m\u001b[0;34m\u001b[0m\u001b[0;34m\u001b[0m\u001b[0m\n\u001b[0m\u001b[1;32m    341\u001b[0m                            )\n\u001b[1;32m    342\u001b[0m             \u001b[0mself\u001b[0m\u001b[0;34m.\u001b[0m\u001b[0mstatus\u001b[0m\u001b[0;34m.\u001b[0m\u001b[0madd_row\u001b[0m\u001b[0;34m(\u001b[0m\u001b[0;34m\"Data Drift Score Computation\"\u001b[0m\u001b[0;34m,\u001b[0m \u001b[0;34m\"[bold magenta]COMPLETED [green]:heavy_check_mark: \"\u001b[0m\u001b[0;34m)\u001b[0m\u001b[0;34m\u001b[0m\u001b[0;34m\u001b[0m\u001b[0m\n",
      "\u001b[0;32m/opt/conda/lib/python3.7/site-packages/kyd/executor.py\u001b[0m in \u001b[0;36mscore\u001b[0;34m(self, scoring_data, ref_data, drift_type, publish, ml_model_id, ml_version_id, run_at, pass_to_score)\u001b[0m\n\u001b[1;32m    428\u001b[0m                                     )\n\u001b[1;32m    429\u001b[0m         self.scorer.compute(drift_type=drift_type,\n\u001b[0;32m--> 430\u001b[0;31m                             dict_to_serialize=pass_to_score)\n\u001b[0m\u001b[1;32m    431\u001b[0m         \u001b[0;32mif\u001b[0m \u001b[0mpublish\u001b[0m\u001b[0;34m:\u001b[0m\u001b[0;34m\u001b[0m\u001b[0;34m\u001b[0m\u001b[0m\n\u001b[1;32m    432\u001b[0m             self.scorer.publish(ml_model_id,\n",
      "\u001b[0;32m/opt/conda/lib/python3.7/site-packages/kyd/detect/client.py\u001b[0m in \u001b[0;36mcompute\u001b[0;34m(self, drift_type, dict_to_serialize)\u001b[0m\n\u001b[1;32m     45\u001b[0m                 \u001b[0mdrift_type\u001b[0m\u001b[0;34m:\u001b[0m \u001b[0mstr\u001b[0m \u001b[0;34m=\u001b[0m \u001b[0;34m\"feature\"\u001b[0m\u001b[0;34m,\u001b[0m\u001b[0;34m\u001b[0m\u001b[0;34m\u001b[0m\u001b[0m\n\u001b[1;32m     46\u001b[0m                 dict_to_serialize: Dict = {}) -> Dict:\n\u001b[0;32m---> 47\u001b[0;31m         \u001b[0mself\u001b[0m\u001b[0;34m.\u001b[0m\u001b[0mraw_score\u001b[0m \u001b[0;34m=\u001b[0m \u001b[0mself\u001b[0m\u001b[0;34m.\u001b[0m\u001b[0mcontext\u001b[0m\u001b[0;34m.\u001b[0m\u001b[0mcompute_score\u001b[0m\u001b[0;34m(\u001b[0m\u001b[0mdrift_type\u001b[0m\u001b[0;34m=\u001b[0m\u001b[0mdrift_type\u001b[0m\u001b[0;34m)\u001b[0m\u001b[0;34m\u001b[0m\u001b[0;34m\u001b[0m\u001b[0m\n\u001b[0m\u001b[1;32m     48\u001b[0m         \u001b[0mscore_to_serialize\u001b[0m \u001b[0;34m=\u001b[0m \u001b[0mdict\u001b[0m\u001b[0;34m(\u001b[0m\u001b[0;34m)\u001b[0m\u001b[0;34m\u001b[0m\u001b[0;34m\u001b[0m\u001b[0m\n\u001b[1;32m     49\u001b[0m         \u001b[0mscore_to_serialize\u001b[0m\u001b[0;34m.\u001b[0m\u001b[0mupdate\u001b[0m\u001b[0;34m(\u001b[0m\u001b[0mself\u001b[0m\u001b[0;34m.\u001b[0m\u001b[0mraw_score\u001b[0m\u001b[0;34m[\u001b[0m\u001b[0;34m\"data\"\u001b[0m\u001b[0;34m]\u001b[0m\u001b[0;34m)\u001b[0m\u001b[0;34m\u001b[0m\u001b[0;34m\u001b[0m\u001b[0m\n",
      "\u001b[0;32m/opt/conda/lib/python3.7/site-packages/kyd/detect/context.py\u001b[0m in \u001b[0;36mcompute_score\u001b[0;34m(self, *args, **kwargs)\u001b[0m\n\u001b[1;32m     21\u001b[0m         \u001b[0mAccepts\u001b[0m \u001b[0mall\u001b[0m \u001b[0mthe\u001b[0m \u001b[0mattributes\u001b[0m \u001b[0mof\u001b[0m \u001b[0massociated\u001b[0m \u001b[0mstrategy\u001b[0m \u001b[0;32mand\u001b[0m \u001b[0mcomputes\u001b[0m \u001b[0mscore\u001b[0m\u001b[0;34m.\u001b[0m \u001b[0mto\u001b[0m \u001b[0mknow\u001b[0m \u001b[0mmore\u001b[0m \u001b[0mintrospect\u001b[0m \u001b[0mstrategy\u001b[0m\u001b[0;34m.\u001b[0m\u001b[0;34m\u001b[0m\u001b[0;34m\u001b[0m\u001b[0m\n\u001b[1;32m     22\u001b[0m         \"\"\"\n\u001b[0;32m---> 23\u001b[0;31m         \u001b[0mself\u001b[0m\u001b[0;34m.\u001b[0m\u001b[0moutput\u001b[0m \u001b[0;34m=\u001b[0m \u001b[0mself\u001b[0m\u001b[0;34m.\u001b[0m\u001b[0mstrategy\u001b[0m\u001b[0;34m.\u001b[0m\u001b[0mscore\u001b[0m\u001b[0;34m(\u001b[0m\u001b[0mself\u001b[0m\u001b[0;34m.\u001b[0m\u001b[0mproduction_data\u001b[0m\u001b[0;34m,\u001b[0m \u001b[0;34m*\u001b[0m\u001b[0margs\u001b[0m\u001b[0;34m,\u001b[0m \u001b[0;34m**\u001b[0m\u001b[0mkwargs\u001b[0m\u001b[0;34m)\u001b[0m\u001b[0;34m\u001b[0m\u001b[0;34m\u001b[0m\u001b[0m\n\u001b[0m\u001b[1;32m     24\u001b[0m         \u001b[0;32mreturn\u001b[0m \u001b[0mself\u001b[0m\u001b[0;34m.\u001b[0m\u001b[0moutput\u001b[0m\u001b[0;34m\u001b[0m\u001b[0;34m\u001b[0m\u001b[0m\n\u001b[1;32m     25\u001b[0m \u001b[0;34m\u001b[0m\u001b[0m\n",
      "\u001b[0;32m/opt/conda/lib/python3.7/site-packages/kyd/detect/ks_strategy.py\u001b[0m in \u001b[0;36mscore\u001b[0;34m(self, production_data, drift_type, return_p_val, return_distance, *args, **kwargs)\u001b[0m\n\u001b[1;32m     82\u001b[0m                                           \u001b[0mreturn_p_val\u001b[0m\u001b[0;34m=\u001b[0m\u001b[0mreturn_p_val\u001b[0m\u001b[0;34m,\u001b[0m\u001b[0;34m\u001b[0m\u001b[0;34m\u001b[0m\u001b[0m\n\u001b[1;32m     83\u001b[0m                                           \u001b[0mreturn_distance\u001b[0m\u001b[0;34m=\u001b[0m\u001b[0mreturn_distance\u001b[0m\u001b[0;34m,\u001b[0m\u001b[0;34m\u001b[0m\u001b[0;34m\u001b[0m\u001b[0m\n\u001b[0;32m---> 84\u001b[0;31m                                           \u001b[0;34m**\u001b[0m\u001b[0mkwargs\u001b[0m\u001b[0;34m\u001b[0m\u001b[0;34m\u001b[0m\u001b[0m\n\u001b[0m\u001b[1;32m     85\u001b[0m                                           )\n\u001b[1;32m     86\u001b[0m \u001b[0;34m\u001b[0m\u001b[0m\n",
      "\u001b[0;32m/opt/conda/lib/python3.7/site-packages/alibi_detect/cd/ks.py\u001b[0m in \u001b[0;36mpredict\u001b[0;34m(self, X, drift_type, return_p_val, return_distance)\u001b[0m\n\u001b[1;32m    199\u001b[0m         \u001b[0;31m# values below p-value threshold are drift\u001b[0m\u001b[0;34m\u001b[0m\u001b[0;34m\u001b[0m\u001b[0;34m\u001b[0m\u001b[0m\n\u001b[1;32m    200\u001b[0m         \u001b[0;32mif\u001b[0m \u001b[0mdrift_type\u001b[0m \u001b[0;34m==\u001b[0m \u001b[0;34m'feature'\u001b[0m\u001b[0;34m:\u001b[0m\u001b[0;34m\u001b[0m\u001b[0;34m\u001b[0m\u001b[0m\n\u001b[0;32m--> 201\u001b[0;31m             \u001b[0mdrift_pred\u001b[0m \u001b[0;34m=\u001b[0m \u001b[0;34m(\u001b[0m\u001b[0mp_vals\u001b[0m \u001b[0;34m<\u001b[0m \u001b[0mself\u001b[0m\u001b[0;34m.\u001b[0m\u001b[0mp_val\u001b[0m\u001b[0;34m)\u001b[0m\u001b[0;34m.\u001b[0m\u001b[0mastype\u001b[0m\u001b[0;34m(\u001b[0m\u001b[0mint\u001b[0m\u001b[0;34m)\u001b[0m\u001b[0;34m\u001b[0m\u001b[0;34m\u001b[0m\u001b[0m\n\u001b[0m\u001b[1;32m    202\u001b[0m         \u001b[0;32melif\u001b[0m \u001b[0mdrift_type\u001b[0m \u001b[0;34m==\u001b[0m \u001b[0;34m'batch'\u001b[0m \u001b[0;32mand\u001b[0m \u001b[0mself\u001b[0m\u001b[0;34m.\u001b[0m\u001b[0mcorrection\u001b[0m \u001b[0;34m==\u001b[0m \u001b[0;34m'bonferroni'\u001b[0m\u001b[0;34m:\u001b[0m\u001b[0;34m\u001b[0m\u001b[0;34m\u001b[0m\u001b[0m\n\u001b[1;32m    203\u001b[0m             \u001b[0mthreshold\u001b[0m \u001b[0;34m=\u001b[0m \u001b[0mself\u001b[0m\u001b[0;34m.\u001b[0m\u001b[0mp_val\u001b[0m \u001b[0;34m/\u001b[0m \u001b[0mself\u001b[0m\u001b[0;34m.\u001b[0m\u001b[0mn_features\u001b[0m\u001b[0;34m\u001b[0m\u001b[0;34m\u001b[0m\u001b[0m\n",
      "\u001b[0;31mTypeError\u001b[0m: '<' not supported between instances of 'float' and 'NoneType'"
     ]
    }
   ],
   "source": [
    "register_model(model_obj, score, name=\"WorldCup_2019_Prediction\", \n",
    "                description=\"Predicting the winner of cricket WorldCup 2019\",\n",
    "                flavour=MLModelFlavours.sklearn, schema=sch,\n",
    "                y_true=y_test, y_pred=y_pred, \n",
    "                prob=y_prob, features=X_train.columns, labels=list(y_train.unique()), init_script=\"\" ,\n",
    "                model_type=\"classification\", \n",
    "                input_type=\"json\", explain_ai=True, x_train=X_train, x_test=X_test, \n",
    "                y_train=y_train.tolist(), y_test=y_test.tolist(),feature_names=X_train.columns, \n",
    "                feature_ids=X_train.columns,\n",
    "                target_names=['Winner'], kyd=True, kyd_score = True)\n",
    "print(\"Registering model\")"
   ]
  },
  {
   "cell_type": "code",
   "execution_count": null,
   "id": "a65072c3",
   "metadata": {},
   "outputs": [],
   "source": [
    "add_version(model_dict,model_obj, score, \n",
    "                flavour=MLModelFlavours.sklearn, schema=sch,\n",
    "                y_true=test_Y, y_pred=y_pred, prob=y_prob, features=train_X.columns, \n",
    "                original_features=train_X.columns, labels=[0,1], init_script=\"\" ,\n",
    "                model_type=\"classification\", \n",
    "                input_type=\"json\")"
   ]
  },
  {
   "cell_type": "code",
   "execution_count": 48,
   "id": "1e8790f5",
   "metadata": {},
   "outputs": [
    {
     "data": {
      "text/plain": [
       "297      Australia\n",
       "323      Sri Lanka\n",
       "459      Australia\n",
       "209      Australia\n",
       "143       Pakistan\n",
       "          ...     \n",
       "316       Pakistan\n",
       "393    New Zealand\n",
       "75         England\n",
       "337          India\n",
       "523      no result\n",
       "Name: Winner, Length: 385, dtype: object"
      ]
     },
     "execution_count": 48,
     "metadata": {},
     "output_type": "execute_result"
    }
   ],
   "source": [
    "y_train"
   ]
  },
  {
   "cell_type": "code",
   "execution_count": null,
   "id": "8379d9a9",
   "metadata": {},
   "outputs": [],
   "source": []
  },
  {
   "cell_type": "code",
   "execution_count": null,
   "id": "f50cf98f",
   "metadata": {},
   "outputs": [],
   "source": []
  },
  {
   "cell_type": "code",
   "execution_count": null,
   "id": "e5565559",
   "metadata": {},
   "outputs": [],
   "source": []
  },
  {
   "cell_type": "code",
   "execution_count": null,
   "id": "f270a2b1",
   "metadata": {},
   "outputs": [],
   "source": []
  },
  {
   "cell_type": "code",
   "execution_count": null,
   "id": "2125a5cb",
   "metadata": {},
   "outputs": [],
   "source": []
  }
 ],
 "metadata": {
  "kernelspec": {
   "display_name": "Python 3",
   "language": "python",
   "name": "python3"
  },
  "language_info": {
   "codemirror_mode": {
    "name": "ipython",
    "version": 3
   },
   "file_extension": ".py",
   "mimetype": "text/x-python",
   "name": "python",
   "nbconvert_exporter": "python",
   "pygments_lexer": "ipython3",
   "version": "3.7.12"
  }
 },
 "nbformat": 4,
 "nbformat_minor": 5
}
